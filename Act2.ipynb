{
 "cells": [
  {
   "cell_type": "markdown",
   "metadata": {},
   "source": [
    "### Diseño de Agentes Inteligentes\n",
    "### Tarea 2. Agentes Solucionadores de Problemas (PSA) y búsqueda\n",
    "\n",
    "*Integrantes del Equipo 4* \n",
    "1. Ricardo Kaleb Flores Alfonso     A01198716\n",
    "2. Sebastián Miramontes Soto        A01285296\n",
    "3. Raúl Correa Ocañas               A01722401\n"
   ]
  },
  {
   "cell_type": "markdown",
   "metadata": {},
   "source": [
    "#### Cleanup Puzzle\n",
    "\n",
    "Cleanup Puzzle es un juego de mesa que requiere que limpies el tablero. Para ello, deberás hacer clic en las fichas de un tablero tipo cuadrícula. Cada ficha puede estar vacía o contener una bola. El mosaico en el que haga clic no se verá afectado, pero sus vecinos directos (horizontal y verticalmente) se invertirán (si el mosaico contiene una bola, se vaciará y viceversa). El objetivo es determinar una secuencia de clics que elimine todas las bolas del tablero.\n",
    "\n",
    "El juego, que puedes encontrar y jugar en el enlace https://www.mathsisfun.com/games/cleanup-puzzle.html , consiste en un tablero de 11x11 que se juega en una secuencia de etapas de complejidad incrementada. La complejidad de un escenario está relacionada con la cantidad de bolas en el tablero y sus ubicaciones. En el juego en línea, hay un límite de clics definido para cada etapa y el juego termina cuando no puede encontrar una secuencia de clics lo suficientemente pequeña para limpiar el tablero.\n",
    "Ejemplos de diferentes etapas del juego en línea:\n",
    "\n",
    "![alt text](ejemplo1.png)\n",
    "\n",
    "![alt text](ejemplo2.png)\n"
   ]
  },
  {
   "cell_type": "code",
   "execution_count": 1,
   "metadata": {},
   "outputs": [],
   "source": [
    "# Simpleai.search es la librería desde la que importaremos los algoritmos de búsqueda\n",
    "from simpleai.search import SearchProblem, astar, greedy\n",
    "# BaseViewer nos ayuda a resumir los resultados de la búsqueda\n",
    "from simpleai.search.viewers import BaseViewer, WebViewer"
   ]
  },
  {
   "cell_type": "markdown",
   "metadata": {},
   "source": [
    "PSA de Busqueda Informada utilizando el algoritmo A*"
   ]
  },
  {
   "cell_type": "code",
   "execution_count": 2,
   "metadata": {},
   "outputs": [],
   "source": [
    "class Cleanup(SearchProblem):\n",
    "    # Definimos el problema de búsqueda. Cleanup hereda de SearchProblem y toma como parametros\n",
    "    # el estado inicial y el estado meta\n",
    "    def __init__(self, initial, goal):\n",
    "        super().__init__(initial_state = initial)\n",
    "        self.goal_state = goal\n",
    "\n",
    "    def actions(self, state):\n",
    "        valid_actions = []\n",
    "        rows = len(state)\n",
    "        cols = len(state[0])\n",
    "\n",
    "        for i in range(rows):\n",
    "            for j in range(cols):\n",
    "                # Check if the cell is empty and has at least one neighboring cell with a ball\n",
    "                if not state[i][j]:\n",
    "                    if i - 1 >= 0 and state[i - 1][j]:\n",
    "                        valid_actions.append((i, j))\n",
    "                    if i + 1 < rows and state[i + 1][j]:\n",
    "                        valid_actions.append((i, j))\n",
    "                    if j - 1 >= 0 and state[i][j - 1]:\n",
    "                        valid_actions.append((i, j))\n",
    "                    if j + 1 < cols and state[i][j + 1]:\n",
    "                        valid_actions.append((i, j))\n",
    "        \n",
    "        return valid_actions\n",
    "    \n",
    "    def result(self, state, action):\n",
    "        i, j = action\n",
    "        child_state = [list(row) for row in state]\n",
    "        \n",
    "        if i - 1 >= 0:\n",
    "            child_state[i - 1][j] = not child_state[i - 1][j]\n",
    "        if j - 1 >= 0:\n",
    "            child_state[i][j - 1] = not child_state[i][j - 1]\n",
    "        if j + 1 < len(state[0]):\n",
    "            child_state[i][j + 1] = not child_state[i][j + 1]\n",
    "        if i + 1 < len(state):\n",
    "            child_state[i + 1][j] = not child_state[i + 1][j]\n",
    "\n",
    "        return tuple([tuple(row) for row in child_state])\n",
    "    \n",
    "    def is_goal(self, state):\n",
    "        return state == self.goal_state\n",
    "    \n",
    "    def cost(self, state, action, state2):\n",
    "        return 1\n",
    "\n",
    "    def heuristic(self, state):\n",
    "        rows = len(state)\n",
    "        cols = len(state[0])\n",
    "        ball_positions = []\n",
    "        goal_positions = []\n",
    "\n",
    "        for i in range(rows):\n",
    "            for j in range(cols):\n",
    "                if state[i][j]:\n",
    "                    ball_positions.append((i, j))\n",
    "                else:\n",
    "                    goal_positions.append((i, j))\n",
    "\n",
    "        heuristic_value = 0\n",
    "        for ball_pos in ball_positions:\n",
    "            min_distance = min(abs(ball_pos[0] - goal_pos[0]) + abs(ball_pos[1] - goal_pos[1]) for goal_pos in goal_positions)\n",
    "            heuristic_value += min_distance\n",
    "\n",
    "        return heuristic_value"
   ]
  },
  {
   "cell_type": "code",
   "execution_count": 3,
   "metadata": {},
   "outputs": [],
   "source": [
    "def display(result):\n",
    "    if result is not None:\n",
    "        for i, (action, state) in enumerate(result.path()):\n",
    "            if action == None:\n",
    "                print('Configuración inicial')\n",
    "            elif i == len(result.path()) - 1:\n",
    "                print(i, action)\n",
    "                print('¡Meta lograda con costo = ', result.cost,'!')\n",
    "            else:\n",
    "                print(i, action)\n",
    "\n",
    "            print('  ', state)\n",
    "    else:\n",
    "        print('Mala configuración del problema')"
   ]
  },
  {
   "cell_type": "code",
   "execution_count": 4,
   "metadata": {},
   "outputs": [],
   "source": [
    "def list_board(rows, cols):\n",
    "        return [[False for i in range(cols)] for j in range(rows)]\n",
    "\n",
    "def tuple_board(board):\n",
    "        return tuple([tuple(row) for row in board])"
   ]
  },
  {
   "cell_type": "code",
   "execution_count": 5,
   "metadata": {},
   "outputs": [],
   "source": [
    "rows, cols = 11,11\n",
    "init = list_board(rows, cols)\n",
    "goal = list_board(rows, cols)"
   ]
  },
  {
   "cell_type": "code",
   "execution_count": 6,
   "metadata": {},
   "outputs": [],
   "source": [
    "# # Dificultad 1\n",
    "\n",
    "# init[3][0] = True\n",
    "# init[4][1] = True\n",
    "# init[5][0] = True\n",
    "\n",
    "# init[10][8] = True\n",
    "# init[9][9] = True\n",
    "# init[10][10] = True"
   ]
  },
  {
   "cell_type": "code",
   "execution_count": 7,
   "metadata": {},
   "outputs": [],
   "source": [
    "# # Dificultad 2\n",
    "# init[2][4] = True\n",
    "# init[3][3] = True\n",
    "# init[3][5] = True\n",
    "# init[4][4] = True\n",
    "\n",
    "# init[9][7] = True\n",
    "# init[7][7] = True\n",
    "# init[8][6] = True\n",
    "# init[8][8] = True\n",
    "\n",
    "# init[7][0] = True\n",
    "# init[6][1] = True\n",
    "# init[8][1] = True\n",
    "\n",
    "# init[10][4] = True\n",
    "# init[9][5] = True\n",
    "# init[10][6] = True\n",
    "\n",
    "# init[7][4] = True\n",
    "# init[6][3] = True\n",
    "# init[8][3] = True"
   ]
  },
  {
   "cell_type": "code",
   "execution_count": 8,
   "metadata": {},
   "outputs": [],
   "source": [
    "# Dificultad 3\n",
    "init = ((False, False, False, True, False, False, False, False, False, False, False),\n",
    "        (False, False, True, False, True, False, False, False, False, False, False),\n",
    "        (False, False, False, True, False, False, False, False, False, False, False),\n",
    "        (False, False, False, False, False, False, False, True, False, False, False),\n",
    "        (False, False, False, True, False, False, True, False, False, False, False),\n",
    "        (False, False, True, False, True, False, False, False, False, True, False),\n",
    "        (False, False, False, True, False, False, False, False, True, True, False),\n",
    "        (False, False, False, False, False, False, False, False, True, False, True),\n",
    "        (True, False, False, False, False, True, False, False, False, True, False),\n",
    "        (False, True, False, False, True, False, True, False, False, False, False),\n",
    "        (True, False, False, False, False, True, False, False, False, False, False))"
   ]
  },
  {
   "cell_type": "code",
   "execution_count": 9,
   "metadata": {},
   "outputs": [],
   "source": [
    "# Dificultad 4\n",
    "init = ((False, False, False, False, False, False, False, True, False, False, False),\n",
    "        (False, False, True, False, True, False, False, True, True, False, False),\n",
    "        (False, False, False, True, False, True, True, True, True, False, False),\n",
    "        (False, False, False, False, False, False, False, True, False, False, False),\n",
    "        (False, False, False, False, False, False, False, False, False, False, False),\n",
    "        (False, False, False, False, False, False, False, False, False, False, False),\n",
    "        (False, False, False, False, False, False, False, False, False, False, False),\n",
    "        (False, False, False, False, False, False, False, False, False, False, False),\n",
    "        (False, False, False, False, False, False, False, False, False, False, False),\n",
    "        (False, False, False, False, False, False, False, False, False, False, False),\n",
    "        (False, False, False, False, False, False, False, False, False, False, False))"
   ]
  },
  {
   "cell_type": "code",
   "execution_count": 10,
   "metadata": {},
   "outputs": [
    {
     "data": {
      "text/plain": [
       "[[0, 0, 0, 1, 0, 0, 0, 0, 0, 0, 0],\n",
       " [0, 0, 1, 0, 1, 0, 0, 0, 0, 0, 0],\n",
       " [0, 0, 0, 1, 0, 0, 0, 0, 0, 0, 0],\n",
       " [0, 0, 0, 0, 0, 0, 0, 1, 0, 0, 0],\n",
       " [0, 0, 0, 1, 0, 0, 1, 0, 0, 0, 0],\n",
       " [0, 0, 1, 0, 1, 0, 0, 0, 0, 1, 0],\n",
       " [0, 0, 0, 1, 0, 0, 0, 0, 1, 1, 0],\n",
       " [0, 0, 0, 0, 0, 0, 0, 0, 1, 0, 1],\n",
       " [1, 0, 0, 0, 0, 1, 0, 0, 0, 1, 0],\n",
       " [0, 1, 0, 0, 1, 0, 1, 0, 0, 0, 0],\n",
       " [1, 0, 0, 0, 0, 1, 0, 0, 0, 0, 0]]"
      ]
     },
     "execution_count": 10,
     "metadata": {},
     "output_type": "execute_result"
    }
   ],
   "source": [
    "init = tuple_board(init)\n",
    "goal = tuple_board(goal)\n",
    "\n",
    "init_int = [[int(cell) for cell in row] for row in init]\n",
    "init_int"
   ]
  },
  {
   "cell_type": "code",
   "execution_count": 11,
   "metadata": {},
   "outputs": [
    {
     "name": "stdout",
     "output_type": "stream",
     "text": [
      "\n",
      ">> Búsqueda A* <<\n",
      "Configuración inicial\n",
      "   ((False, False, False, True, False, False, False, False, False, False, False), (False, False, True, False, True, False, False, False, False, False, False), (False, False, False, True, False, False, False, False, False, False, False), (False, False, False, False, False, False, False, True, False, False, False), (False, False, False, True, False, False, True, False, False, False, False), (False, False, True, False, True, False, False, False, False, True, False), (False, False, False, True, False, False, False, False, True, True, False), (False, False, False, False, False, False, False, False, True, False, True), (True, False, False, False, False, True, False, False, False, True, False), (False, True, False, False, True, False, True, False, False, False, False), (True, False, False, False, False, True, False, False, False, False, False))\n",
      "1 (1, 3)\n",
      "   ((False, False, False, False, False, False, False, False, False, False, False), (False, False, False, False, False, False, False, False, False, False, False), (False, False, False, False, False, False, False, False, False, False, False), (False, False, False, False, False, False, False, True, False, False, False), (False, False, False, True, False, False, True, False, False, False, False), (False, False, True, False, True, False, False, False, False, True, False), (False, False, False, True, False, False, False, False, True, True, False), (False, False, False, False, False, False, False, False, True, False, True), (True, False, False, False, False, True, False, False, False, True, False), (False, True, False, False, True, False, True, False, False, False, False), (True, False, False, False, False, True, False, False, False, False, False))\n",
      "2 (5, 3)\n",
      "   ((False, False, False, False, False, False, False, False, False, False, False), (False, False, False, False, False, False, False, False, False, False, False), (False, False, False, False, False, False, False, False, False, False, False), (False, False, False, False, False, False, False, True, False, False, False), (False, False, False, False, False, False, True, False, False, False, False), (False, False, False, False, False, False, False, False, False, True, False), (False, False, False, False, False, False, False, False, True, True, False), (False, False, False, False, False, False, False, False, True, False, True), (True, False, False, False, False, True, False, False, False, True, False), (False, True, False, False, True, False, True, False, False, False, False), (True, False, False, False, False, True, False, False, False, False, False))\n",
      "3 (7, 9)\n",
      "   ((False, False, False, False, False, False, False, False, False, False, False), (False, False, False, False, False, False, False, False, False, False, False), (False, False, False, False, False, False, False, False, False, False, False), (False, False, False, False, False, False, False, True, False, False, False), (False, False, False, False, False, False, True, False, False, False, False), (False, False, False, False, False, False, False, False, False, True, False), (False, False, False, False, False, False, False, False, True, False, False), (False, False, False, False, False, False, False, False, False, False, False), (True, False, False, False, False, True, False, False, False, False, False), (False, True, False, False, True, False, True, False, False, False, False), (True, False, False, False, False, True, False, False, False, False, False))\n",
      "4 (9, 5)\n",
      "   ((False, False, False, False, False, False, False, False, False, False, False), (False, False, False, False, False, False, False, False, False, False, False), (False, False, False, False, False, False, False, False, False, False, False), (False, False, False, False, False, False, False, True, False, False, False), (False, False, False, False, False, False, True, False, False, False, False), (False, False, False, False, False, False, False, False, False, True, False), (False, False, False, False, False, False, False, False, True, False, False), (False, False, False, False, False, False, False, False, False, False, False), (True, False, False, False, False, False, False, False, False, False, False), (False, True, False, False, False, False, False, False, False, False, False), (True, False, False, False, False, False, False, False, False, False, False))\n",
      "5 (9, 0)\n",
      "   ((False, False, False, False, False, False, False, False, False, False, False), (False, False, False, False, False, False, False, False, False, False, False), (False, False, False, False, False, False, False, False, False, False, False), (False, False, False, False, False, False, False, True, False, False, False), (False, False, False, False, False, False, True, False, False, False, False), (False, False, False, False, False, False, False, False, False, True, False), (False, False, False, False, False, False, False, False, True, False, False), (False, False, False, False, False, False, False, False, False, False, False), (False, False, False, False, False, False, False, False, False, False, False), (False, False, False, False, False, False, False, False, False, False, False), (False, False, False, False, False, False, False, False, False, False, False))\n",
      "6 (4, 7)\n",
      "   ((False, False, False, False, False, False, False, False, False, False, False), (False, False, False, False, False, False, False, False, False, False, False), (False, False, False, False, False, False, False, False, False, False, False), (False, False, False, False, False, False, False, False, False, False, False), (False, False, False, False, False, False, False, False, True, False, False), (False, False, False, False, False, False, False, True, False, True, False), (False, False, False, False, False, False, False, False, True, False, False), (False, False, False, False, False, False, False, False, False, False, False), (False, False, False, False, False, False, False, False, False, False, False), (False, False, False, False, False, False, False, False, False, False, False), (False, False, False, False, False, False, False, False, False, False, False))\n",
      "7 (5, 8)\n",
      "¡Meta lograda con costo =  7 !\n",
      "   ((False, False, False, False, False, False, False, False, False, False, False), (False, False, False, False, False, False, False, False, False, False, False), (False, False, False, False, False, False, False, False, False, False, False), (False, False, False, False, False, False, False, False, False, False, False), (False, False, False, False, False, False, False, False, False, False, False), (False, False, False, False, False, False, False, False, False, False, False), (False, False, False, False, False, False, False, False, False, False, False), (False, False, False, False, False, False, False, False, False, False, False), (False, False, False, False, False, False, False, False, False, False, False), (False, False, False, False, False, False, False, False, False, False, False), (False, False, False, False, False, False, False, False, False, False, False))\n"
     ]
    }
   ],
   "source": [
    "astar_viewer = BaseViewer()       # Solo estadísticas\n",
    "result = astar(Cleanup(init,goal), graph_search=True, viewer=astar_viewer)\n",
    "print()\n",
    "print('>> Búsqueda A* <<')\n",
    "display(result)"
   ]
  },
  {
   "cell_type": "code",
   "execution_count": 12,
   "metadata": {},
   "outputs": [
    {
     "name": "stdout",
     "output_type": "stream",
     "text": [
      "\n",
      ">> Greedy <<\n",
      "Configuración inicial\n",
      "   ((False, False, False, True, False, False, False, False, False, False, False), (False, False, True, False, True, False, False, False, False, False, False), (False, False, False, True, False, False, False, False, False, False, False), (False, False, False, False, False, False, False, True, False, False, False), (False, False, False, True, False, False, True, False, False, False, False), (False, False, True, False, True, False, False, False, False, True, False), (False, False, False, True, False, False, False, False, True, True, False), (False, False, False, False, False, False, False, False, True, False, True), (True, False, False, False, False, True, False, False, False, True, False), (False, True, False, False, True, False, True, False, False, False, False), (True, False, False, False, False, True, False, False, False, False, False))\n",
      "1 (1, 3)\n",
      "   ((False, False, False, False, False, False, False, False, False, False, False), (False, False, False, False, False, False, False, False, False, False, False), (False, False, False, False, False, False, False, False, False, False, False), (False, False, False, False, False, False, False, True, False, False, False), (False, False, False, True, False, False, True, False, False, False, False), (False, False, True, False, True, False, False, False, False, True, False), (False, False, False, True, False, False, False, False, True, True, False), (False, False, False, False, False, False, False, False, True, False, True), (True, False, False, False, False, True, False, False, False, True, False), (False, True, False, False, True, False, True, False, False, False, False), (True, False, False, False, False, True, False, False, False, False, False))\n",
      "2 (5, 3)\n",
      "   ((False, False, False, False, False, False, False, False, False, False, False), (False, False, False, False, False, False, False, False, False, False, False), (False, False, False, False, False, False, False, False, False, False, False), (False, False, False, False, False, False, False, True, False, False, False), (False, False, False, False, False, False, True, False, False, False, False), (False, False, False, False, False, False, False, False, False, True, False), (False, False, False, False, False, False, False, False, True, True, False), (False, False, False, False, False, False, False, False, True, False, True), (True, False, False, False, False, True, False, False, False, True, False), (False, True, False, False, True, False, True, False, False, False, False), (True, False, False, False, False, True, False, False, False, False, False))\n",
      "3 (7, 9)\n",
      "   ((False, False, False, False, False, False, False, False, False, False, False), (False, False, False, False, False, False, False, False, False, False, False), (False, False, False, False, False, False, False, False, False, False, False), (False, False, False, False, False, False, False, True, False, False, False), (False, False, False, False, False, False, True, False, False, False, False), (False, False, False, False, False, False, False, False, False, True, False), (False, False, False, False, False, False, False, False, True, False, False), (False, False, False, False, False, False, False, False, False, False, False), (True, False, False, False, False, True, False, False, False, False, False), (False, True, False, False, True, False, True, False, False, False, False), (True, False, False, False, False, True, False, False, False, False, False))\n",
      "4 (9, 5)\n",
      "   ((False, False, False, False, False, False, False, False, False, False, False), (False, False, False, False, False, False, False, False, False, False, False), (False, False, False, False, False, False, False, False, False, False, False), (False, False, False, False, False, False, False, True, False, False, False), (False, False, False, False, False, False, True, False, False, False, False), (False, False, False, False, False, False, False, False, False, True, False), (False, False, False, False, False, False, False, False, True, False, False), (False, False, False, False, False, False, False, False, False, False, False), (True, False, False, False, False, False, False, False, False, False, False), (False, True, False, False, False, False, False, False, False, False, False), (True, False, False, False, False, False, False, False, False, False, False))\n",
      "5 (9, 0)\n",
      "   ((False, False, False, False, False, False, False, False, False, False, False), (False, False, False, False, False, False, False, False, False, False, False), (False, False, False, False, False, False, False, False, False, False, False), (False, False, False, False, False, False, False, True, False, False, False), (False, False, False, False, False, False, True, False, False, False, False), (False, False, False, False, False, False, False, False, False, True, False), (False, False, False, False, False, False, False, False, True, False, False), (False, False, False, False, False, False, False, False, False, False, False), (False, False, False, False, False, False, False, False, False, False, False), (False, False, False, False, False, False, False, False, False, False, False), (False, False, False, False, False, False, False, False, False, False, False))\n",
      "6 (4, 7)\n",
      "   ((False, False, False, False, False, False, False, False, False, False, False), (False, False, False, False, False, False, False, False, False, False, False), (False, False, False, False, False, False, False, False, False, False, False), (False, False, False, False, False, False, False, False, False, False, False), (False, False, False, False, False, False, False, False, True, False, False), (False, False, False, False, False, False, False, True, False, True, False), (False, False, False, False, False, False, False, False, True, False, False), (False, False, False, False, False, False, False, False, False, False, False), (False, False, False, False, False, False, False, False, False, False, False), (False, False, False, False, False, False, False, False, False, False, False), (False, False, False, False, False, False, False, False, False, False, False))\n",
      "7 (5, 8)\n",
      "¡Meta lograda con costo =  7 !\n",
      "   ((False, False, False, False, False, False, False, False, False, False, False), (False, False, False, False, False, False, False, False, False, False, False), (False, False, False, False, False, False, False, False, False, False, False), (False, False, False, False, False, False, False, False, False, False, False), (False, False, False, False, False, False, False, False, False, False, False), (False, False, False, False, False, False, False, False, False, False, False), (False, False, False, False, False, False, False, False, False, False, False), (False, False, False, False, False, False, False, False, False, False, False), (False, False, False, False, False, False, False, False, False, False, False), (False, False, False, False, False, False, False, False, False, False, False), (False, False, False, False, False, False, False, False, False, False, False))\n"
     ]
    }
   ],
   "source": [
    "greedy_viewer = BaseViewer()       # Solo estadísticas\n",
    "result = greedy(Cleanup(init,goal), graph_search=True, viewer=greedy_viewer)\n",
    "print()\n",
    "print('>> Greedy <<')\n",
    "display(result)"
   ]
  },
  {
   "cell_type": "code",
   "execution_count": 14,
   "metadata": {},
   "outputs": [
    {
     "name": "stdout",
     "output_type": "stream",
     "text": [
      "A* Stats:\n",
      "{'max_fringe_size': 178, 'visited_nodes': 9, 'iterations': 9}\n",
      "\n",
      "Greedy Stats:\n",
      "{'max_fringe_size': 178, 'visited_nodes': 9, 'iterations': 9}\n"
     ]
    }
   ],
   "source": [
    "if astar_viewer != None:\n",
    "    print('A* Stats:')\n",
    "    print(astar_viewer.stats)\n",
    "\n",
    "print()\n",
    "\n",
    "if greedy_viewer != None:\n",
    "    print('Greedy Stats:')\n",
    "    print(greedy_viewer.stats)"
   ]
  }
 ],
 "metadata": {
  "kernelspec": {
   "display_name": "ML",
   "language": "python",
   "name": "python3"
  },
  "language_info": {
   "codemirror_mode": {
    "name": "ipython",
    "version": 3
   },
   "file_extension": ".py",
   "mimetype": "text/x-python",
   "name": "python",
   "nbconvert_exporter": "python",
   "pygments_lexer": "ipython3",
   "version": "3.11.3"
  },
  "orig_nbformat": 4
 },
 "nbformat": 4,
 "nbformat_minor": 2
}
