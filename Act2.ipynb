{
 "cells": [
  {
   "cell_type": "markdown",
   "metadata": {},
   "source": [
    "### Diseño de Agentes Inteligentes\n",
    "### Tarea 2. Agentes Solucionadores de Problemas (PSA) y búsqueda\n",
    "\n",
    "*Integrantes del Equipo 4* \n",
    "1. Ricardo Kaleb Flores Alfonso     A01198716\n",
    "2. Sebastián Miramontes Soto        A01285296\n",
    "3. Raúl Correa Ocañas               A01722401\n"
   ]
  },
  {
   "cell_type": "markdown",
   "metadata": {},
   "source": [
    "#### Cleanup Puzzle\n",
    "\n",
    "Cleanup Puzzle es un juego de mesa que requiere que limpies el tablero. Para ello, deberás hacer clic en las fichas de un tablero tipo cuadrícula. Cada ficha puede estar vacía o contener una bola. El mosaico en el que haga clic no se verá afectado, pero sus vecinos directos (horizontal y verticalmente) se invertirán (si el mosaico contiene una bola, se vaciará y viceversa). El objetivo es determinar una secuencia de clics que elimine todas las bolas del tablero.\n",
    "\n",
    "El juego, que puedes encontrar y jugar en el enlace https://www.mathsisfun.com/games/cleanup-puzzle.html , consiste en un tablero de 11x11 que se juega en una secuencia de etapas de complejidad incrementada. La complejidad de un escenario está relacionada con la cantidad de bolas en el tablero y sus ubicaciones. En el juego en línea, hay un límite de clics definido para cada etapa y el juego termina cuando no puede encontrar una secuencia de clics lo suficientemente pequeña para limpiar el tablero.\n",
    "Ejemplos de diferentes etapas del juego en línea:\n",
    "\n",
    "![alt text](ejemplo1.png)\n",
    "\n",
    "![alt text](ejemplo2.png)\n"
   ]
  },
  {
   "cell_type": "code",
   "execution_count": 14,
   "metadata": {},
   "outputs": [],
   "source": [
    "# Simpleai.search es la librería desde la que importaremos los algoritmos de búsqueda\n",
    "from simpleai.search import SearchProblem, astar, greedy\n",
    "# BaseViewer nos ayuda a resumir los resultados de la búsqueda\n",
    "from simpleai.search.viewers import BaseViewer, WebViewer"
   ]
  },
  {
   "cell_type": "markdown",
   "metadata": {},
   "source": [
    "PSA de Busqueda Informada utilizando el algoritmo A* y Greedy"
   ]
  },
  {
   "cell_type": "code",
   "execution_count": 15,
   "metadata": {},
   "outputs": [],
   "source": [
    "class Cleanup(SearchProblem):\n",
    "    # Definimos el problema de búsqueda. Cleanup hereda de SearchProblem y toma como parametros\n",
    "    # el estado inicial y el estado meta\n",
    "    def __init__(self, initial, goal):\n",
    "        super().__init__(initial_state = initial)\n",
    "        self.goal_state = goal\n",
    "\n",
    "    def actions(self, state):\n",
    "        # No consideraremos todas las coordenadas, solo aquellas que\n",
    "        # modifiquen las bolitas adyacentes.\n",
    "        valid_actions = []\n",
    "        rows = len(state)\n",
    "        cols = len(state[0])\n",
    "\n",
    "        # Si la bolita está a la izquierda, arriba, abajo o derecha de la celda actual,\n",
    "        # entonces es una acción válida\n",
    "        for i in range(rows):\n",
    "            for j in range(cols):\n",
    "\n",
    "                # Checa si hay una bolita en la celda de arriba\n",
    "                if i - 1 >= 0 and state[i - 1][j]:\n",
    "                    valid_actions.append((i, j))\n",
    "\n",
    "                # Checa si hay una bolita en la celda de abajo\n",
    "                if i + 1 < rows and state[i + 1][j]:\n",
    "                    valid_actions.append((i, j))\n",
    "\n",
    "                # Checa si hay una bolita en la celda de la izquierda\n",
    "                if j - 1 >= 0 and state[i][j - 1]:\n",
    "                    valid_actions.append((i, j))\n",
    "\n",
    "                # Checa si hay una bolita en la celda de la derecha\n",
    "                if j + 1 < cols and state[i][j + 1]:\n",
    "                    valid_actions.append((i, j))\n",
    "        \n",
    "        return valid_actions # Regresa la lista de acciones válidas\n",
    "    \n",
    "    def result(self, state, action):\n",
    "        i, j = action # Obtiene las coordenadas de la acción\n",
    "        # Crea una copia del estado actual\n",
    "        child_state = [list(row) for row in state]\n",
    "        \n",
    "        # Cambia el estado de las bolitas adyacentes\n",
    "        # Revisa que sea posible poner una bolita en la celda de arriba\n",
    "        if i - 1 >= 0:\n",
    "            # Cambia el estado de la bolita de arriba\n",
    "            child_state[i - 1][j] = not child_state[i - 1][j]\n",
    "\n",
    "        # Revisa que sea posible poner una bolita en la celda de la izquierda\n",
    "        if j - 1 >= 0:\n",
    "            # Cambia el estado de la bolita de la izquierda\n",
    "            child_state[i][j - 1] = not child_state[i][j - 1]\n",
    "        \n",
    "        # Revisa que sea posible poner una bolita en la celda de la derecha\n",
    "        if j + 1 < len(state[0]):\n",
    "            # Cambia el estado de la bolita de la derecha\n",
    "            child_state[i][j + 1] = not child_state[i][j + 1]\n",
    "        \n",
    "        # Revisa que sea posible poner una bolita en la celda de abajo\n",
    "        if i + 1 < len(state):\n",
    "            # Cambia el estado de la bolita de abajo\n",
    "            child_state[i + 1][j] = not child_state[i + 1][j]\n",
    "\n",
    "        return tuple([tuple(row) for row in child_state]) # Regresa el nuevo estado\n",
    "    \n",
    "    # Checa si el estado actual es el estado meta\n",
    "    def is_goal(self, state):\n",
    "        return state == self.goal_state\n",
    "    \n",
    "    # Define el costo de una acción, en este caso, todas las acciones tienen costo 1\n",
    "    def cost(self, state, action, state2):\n",
    "        return 1\n",
    "\n",
    "    # Define la heurística a utilizar\n",
    "    def heuristic(self, state):\n",
    "        rows = len(state)\n",
    "        cols = len(state[0])\n",
    "        ball_positions = []\n",
    "        goal_positions = []\n",
    "\n",
    "        for i in range(rows):\n",
    "            for j in range(cols):\n",
    "                if state[i][j]:\n",
    "                    # Guarda las posiciones de las bolitas\n",
    "                    ball_positions.append((i, j))\n",
    "                else:\n",
    "                    # Guarda las posiciones de las celdas vacías\n",
    "                    goal_positions.append((i, j))\n",
    "\n",
    "        # Calcula la distancia mínima de cada bolita a una celda vacía\n",
    "        heuristic_value = 0\n",
    "        for ball_pos in ball_positions:\n",
    "            # También conocido como Manhattan distance\n",
    "            min_distance = min(abs(ball_pos[0] - goal_pos[0]) + abs(ball_pos[1] - goal_pos[1]) for goal_pos in goal_positions)\n",
    "            heuristic_value += min_distance\n",
    "\n",
    "        return heuristic_value"
   ]
  },
  {
   "cell_type": "code",
   "execution_count": 16,
   "metadata": {},
   "outputs": [],
   "source": [
    "# Función para mostrar el resultado de la búsqueda\n",
    "def display(result):\n",
    "    if result is not None:\n",
    "        for i, (action, state) in enumerate(result.path()):\n",
    "            if action == None:\n",
    "                print('Configuración inicial')\n",
    "            elif i == len(result.path()) - 1:\n",
    "                print(i, action)\n",
    "                print('¡Meta lograda con costo = ', result.cost,'!')\n",
    "            else:\n",
    "                print(i, action)\n",
    "\n",
    "            print('  ', state)\n",
    "    else:\n",
    "        print('Mala configuración del problema')"
   ]
  },
  {
   "cell_type": "code",
   "execution_count": 17,
   "metadata": {},
   "outputs": [],
   "source": [
    "# Funcion para crear un tablero de tamaño rows x cols vacio como listas de listas\n",
    "def list_board(rows, cols):\n",
    "        return [[False for i in range(cols)] for j in range(rows)]\n",
    "\n",
    "# Funcion para crear un tablero de tamaño rows x cols con n como tuplas de tuplas\n",
    "def tuple_board(board):\n",
    "        return tuple([tuple(row) for row in board])"
   ]
  },
  {
   "cell_type": "code",
   "execution_count": 18,
   "metadata": {},
   "outputs": [],
   "source": [
    "# Tamaño del tablero: 11x11\n",
    "rows, cols = 11,11\n",
    "# init = list_board(rows, cols)\n",
    "# El estado meta es un tablero sin bolitas\n",
    "goal = list_board(rows, cols)"
   ]
  },
  {
   "cell_type": "code",
   "execution_count": 19,
   "metadata": {},
   "outputs": [],
   "source": [
    "# # Dificultad 1\n",
    "\n",
    "# init[3][0] = True\n",
    "# init[4][1] = True\n",
    "# init[5][0] = True\n",
    "\n",
    "# init[10][8] = True\n",
    "# init[9][9] = True\n",
    "# init[10][10] = True"
   ]
  },
  {
   "cell_type": "code",
   "execution_count": 20,
   "metadata": {},
   "outputs": [],
   "source": [
    "# # Dificultad 2\n",
    "# init[2][4] = True\n",
    "# init[3][3] = True\n",
    "# init[3][5] = True\n",
    "# init[4][4] = True\n",
    "\n",
    "# init[9][7] = True\n",
    "# init[7][7] = True\n",
    "# init[8][6] = True\n",
    "# init[8][8] = True\n",
    "\n",
    "# init[7][0] = True\n",
    "# init[6][1] = True\n",
    "# init[8][1] = True\n",
    "\n",
    "# init[10][4] = True\n",
    "# init[9][5] = True\n",
    "# init[10][6] = True\n",
    "\n",
    "# init[7][4] = True\n",
    "# init[6][3] = True\n",
    "# init[8][3] = True"
   ]
  },
  {
   "cell_type": "code",
   "execution_count": 21,
   "metadata": {},
   "outputs": [],
   "source": [
    "# # Dificultad 3\n",
    "# init = ((False, False, False, True, False, False, False, False, False, False, False),\n",
    "#         (False, False, True, False, True, False, False, False, False, False, False),\n",
    "#         (False, False, False, True, False, False, False, False, False, False, False),\n",
    "#         (False, False, False, False, False, False, False, True, False, False, False),\n",
    "#         (False, False, False, True, False, False, True, False, False, False, False),\n",
    "#         (False, False, True, False, True, False, False, False, False, True, False),\n",
    "#         (False, False, False, True, False, False, False, False, True, True, False),\n",
    "#         (False, False, False, False, False, False, False, False, True, False, True),\n",
    "#         (True, False, False, False, False, True, False, False, False, True, False),\n",
    "#         (False, True, False, False, True, False, True, False, False, False, False),\n",
    "#         (True, False, False, False, False, True, False, False, False, False, False))"
   ]
  },
  {
   "cell_type": "code",
   "execution_count": 22,
   "metadata": {},
   "outputs": [],
   "source": [
    "# Dificultad 4\n",
    "init = ((False, False, False, False, False, False, False, True, False, False, False),\n",
    "        (False, False, True, False, True, False, False, True, True, False, False),\n",
    "        (False, False, False, True, False, True, True, True, True, False, False),\n",
    "        (True, False, False, False, False, False, False, True, False, False, False),\n",
    "        (False, True, False, False, False, False, False, False, False, False, False),\n",
    "        (True, False, False, False, False, False, False, False, False, False, True),\n",
    "        (False, False, False, False, False, False, False, False, False, True, False),\n",
    "        (False, False, False, False, False, False, False, False, True, True, True),\n",
    "        (False, False, False, False, True, False, False, True, True, True, True),\n",
    "        (True, False, False, True, False, True, False, False, True, False, False),\n",
    "        (False, True, False, False, True, False, False, False, True, False, True))"
   ]
  },
  {
   "cell_type": "code",
   "execution_count": 23,
   "metadata": {},
   "outputs": [
    {
     "data": {
      "text/plain": [
       "[[0, 0, 0, 0, 0, 0, 0, 1, 0, 0, 0],\n",
       " [0, 0, 1, 0, 1, 0, 0, 1, 1, 0, 0],\n",
       " [0, 0, 0, 1, 0, 1, 1, 1, 1, 0, 0],\n",
       " [1, 0, 0, 0, 0, 0, 0, 1, 0, 0, 0],\n",
       " [0, 1, 0, 0, 0, 0, 0, 0, 0, 0, 0],\n",
       " [1, 0, 0, 0, 0, 0, 0, 0, 0, 0, 1],\n",
       " [0, 0, 0, 0, 0, 0, 0, 0, 0, 1, 0],\n",
       " [0, 0, 0, 0, 0, 0, 0, 0, 1, 1, 1],\n",
       " [0, 0, 0, 0, 1, 0, 0, 1, 1, 1, 1],\n",
       " [1, 0, 0, 1, 0, 1, 0, 0, 1, 0, 0],\n",
       " [0, 1, 0, 0, 1, 0, 0, 0, 1, 0, 1]]"
      ]
     },
     "execution_count": 23,
     "metadata": {},
     "output_type": "execute_result"
    }
   ],
   "source": [
    "# Entregar el tablero inicial y el tablero meta como tuplas de tuplas\n",
    "init = tuple_board(init)\n",
    "goal = tuple_board(goal)\n",
    "\n",
    "# Visualizar el tablero inicial\n",
    "init_int = [[int(cell) for cell in row] for row in init]\n",
    "init_int"
   ]
  },
  {
   "cell_type": "code",
   "execution_count": 24,
   "metadata": {},
   "outputs": [
    {
     "name": "stdout",
     "output_type": "stream",
     "text": [
      "\n",
      ">> Búsqueda A* <<\n",
      "Configuración inicial\n",
      "   ((False, False, False, False, False, False, False, True, False, False, False), (False, False, True, False, True, False, False, True, True, False, False), (False, False, False, True, False, True, True, True, True, False, False), (True, False, False, False, False, False, False, True, False, False, False), (False, True, False, False, False, False, False, False, False, False, False), (True, False, False, False, False, False, False, False, False, False, True), (False, False, False, False, False, False, False, False, False, True, False), (False, False, False, False, False, False, False, False, True, True, True), (False, False, False, False, True, False, False, True, True, True, True), (True, False, False, True, False, True, False, False, True, False, False), (False, True, False, False, True, False, False, False, True, False, True))\n",
      "1 (7, 9)\n",
      "   ((False, False, False, False, False, False, False, True, False, False, False), (False, False, True, False, True, False, False, True, True, False, False), (False, False, False, True, False, True, True, True, True, False, False), (True, False, False, False, False, False, False, True, False, False, False), (False, True, False, False, False, False, False, False, False, False, False), (True, False, False, False, False, False, False, False, False, False, True), (False, False, False, False, False, False, False, False, False, False, False), (False, False, False, False, False, False, False, False, False, True, False), (False, False, False, False, True, False, False, True, True, False, True), (True, False, False, True, False, True, False, False, True, False, False), (False, True, False, False, True, False, False, False, True, False, True))\n",
      "2 (2, 7)\n",
      "   ((False, False, False, False, False, False, False, True, False, False, False), (False, False, True, False, True, False, False, False, True, False, False), (False, False, False, True, False, True, False, True, False, False, False), (True, False, False, False, False, False, False, False, False, False, False), (False, True, False, False, False, False, False, False, False, False, False), (True, False, False, False, False, False, False, False, False, False, True), (False, False, False, False, False, False, False, False, False, False, False), (False, False, False, False, False, False, False, False, False, True, False), (False, False, False, False, True, False, False, True, True, False, True), (True, False, False, True, False, True, False, False, True, False, False), (False, True, False, False, True, False, False, False, True, False, True))\n",
      "3 (9, 4)\n",
      "   ((False, False, False, False, False, False, False, True, False, False, False), (False, False, True, False, True, False, False, False, True, False, False), (False, False, False, True, False, True, False, True, False, False, False), (True, False, False, False, False, False, False, False, False, False, False), (False, True, False, False, False, False, False, False, False, False, False), (True, False, False, False, False, False, False, False, False, False, True), (False, False, False, False, False, False, False, False, False, False, False), (False, False, False, False, False, False, False, False, False, True, False), (False, False, False, False, False, False, False, True, True, False, True), (True, False, False, False, False, False, False, False, True, False, False), (False, True, False, False, False, False, False, False, True, False, True))\n",
      "4 (4, 0)\n",
      "   ((False, False, False, False, False, False, False, True, False, False, False), (False, False, True, False, True, False, False, False, True, False, False), (False, False, False, True, False, True, False, True, False, False, False), (False, False, False, False, False, False, False, False, False, False, False), (False, False, False, False, False, False, False, False, False, False, False), (False, False, False, False, False, False, False, False, False, False, True), (False, False, False, False, False, False, False, False, False, False, False), (False, False, False, False, False, False, False, False, False, True, False), (False, False, False, False, False, False, False, True, True, False, True), (True, False, False, False, False, False, False, False, True, False, False), (False, True, False, False, False, False, False, False, True, False, True))\n",
      "5 (1, 3)\n",
      "   ((False, False, False, True, False, False, False, True, False, False, False), (False, False, False, False, False, False, False, False, True, False, False), (False, False, False, False, False, True, False, True, False, False, False), (False, False, False, False, False, False, False, False, False, False, False), (False, False, False, False, False, False, False, False, False, False, False), (False, False, False, False, False, False, False, False, False, False, True), (False, False, False, False, False, False, False, False, False, False, False), (False, False, False, False, False, False, False, False, False, True, False), (False, False, False, False, False, False, False, True, True, False, True), (True, False, False, False, False, False, False, False, True, False, False), (False, True, False, False, False, False, False, False, True, False, True))\n",
      "6 (1, 7)\n",
      "   ((False, False, False, True, False, False, False, False, False, False, False), (False, False, False, False, False, False, True, False, False, False, False), (False, False, False, False, False, True, False, False, False, False, False), (False, False, False, False, False, False, False, False, False, False, False), (False, False, False, False, False, False, False, False, False, False, False), (False, False, False, False, False, False, False, False, False, False, True), (False, False, False, False, False, False, False, False, False, False, False), (False, False, False, False, False, False, False, False, False, True, False), (False, False, False, False, False, False, False, True, True, False, True), (True, False, False, False, False, False, False, False, True, False, False), (False, True, False, False, False, False, False, False, True, False, True))\n",
      "7 (8, 9)\n",
      "   ((False, False, False, True, False, False, False, False, False, False, False), (False, False, False, False, False, False, True, False, False, False, False), (False, False, False, False, False, True, False, False, False, False, False), (False, False, False, False, False, False, False, False, False, False, False), (False, False, False, False, False, False, False, False, False, False, False), (False, False, False, False, False, False, False, False, False, False, True), (False, False, False, False, False, False, False, False, False, False, False), (False, False, False, False, False, False, False, False, False, False, False), (False, False, False, False, False, False, False, True, False, False, False), (True, False, False, False, False, False, False, False, True, True, False), (False, True, False, False, False, False, False, False, True, False, True))\n",
      "8 (10, 9)\n",
      "   ((False, False, False, True, False, False, False, False, False, False, False), (False, False, False, False, False, False, True, False, False, False, False), (False, False, False, False, False, True, False, False, False, False, False), (False, False, False, False, False, False, False, False, False, False, False), (False, False, False, False, False, False, False, False, False, False, False), (False, False, False, False, False, False, False, False, False, False, True), (False, False, False, False, False, False, False, False, False, False, False), (False, False, False, False, False, False, False, False, False, False, False), (False, False, False, False, False, False, False, True, False, False, False), (True, False, False, False, False, False, False, False, True, False, False), (False, True, False, False, False, False, False, False, False, False, False))\n",
      "9 (10, 0)\n",
      "   ((False, False, False, True, False, False, False, False, False, False, False), (False, False, False, False, False, False, True, False, False, False, False), (False, False, False, False, False, True, False, False, False, False, False), (False, False, False, False, False, False, False, False, False, False, False), (False, False, False, False, False, False, False, False, False, False, False), (False, False, False, False, False, False, False, False, False, False, True), (False, False, False, False, False, False, False, False, False, False, False), (False, False, False, False, False, False, False, False, False, False, False), (False, False, False, False, False, False, False, True, False, False, False), (False, False, False, False, False, False, False, False, True, False, False), (False, False, False, False, False, False, False, False, False, False, False))\n",
      "10 (1, 5)\n",
      "   ((False, False, False, True, False, True, False, False, False, False, False), (False, False, False, False, True, False, False, False, False, False, False), (False, False, False, False, False, False, False, False, False, False, False), (False, False, False, False, False, False, False, False, False, False, False), (False, False, False, False, False, False, False, False, False, False, False), (False, False, False, False, False, False, False, False, False, False, True), (False, False, False, False, False, False, False, False, False, False, False), (False, False, False, False, False, False, False, False, False, False, False), (False, False, False, False, False, False, False, True, False, False, False), (False, False, False, False, False, False, False, False, True, False, False), (False, False, False, False, False, False, False, False, False, False, False))\n",
      "11 (0, 4)\n",
      "   ((False, False, False, False, False, False, False, False, False, False, False), (False, False, False, False, False, False, False, False, False, False, False), (False, False, False, False, False, False, False, False, False, False, False), (False, False, False, False, False, False, False, False, False, False, False), (False, False, False, False, False, False, False, False, False, False, False), (False, False, False, False, False, False, False, False, False, False, True), (False, False, False, False, False, False, False, False, False, False, False), (False, False, False, False, False, False, False, False, False, False, False), (False, False, False, False, False, False, False, True, False, False, False), (False, False, False, False, False, False, False, False, True, False, False), (False, False, False, False, False, False, False, False, False, False, False))\n",
      "12 (8, 8)\n",
      "   ((False, False, False, False, False, False, False, False, False, False, False), (False, False, False, False, False, False, False, False, False, False, False), (False, False, False, False, False, False, False, False, False, False, False), (False, False, False, False, False, False, False, False, False, False, False), (False, False, False, False, False, False, False, False, False, False, False), (False, False, False, False, False, False, False, False, False, False, True), (False, False, False, False, False, False, False, False, False, False, False), (False, False, False, False, False, False, False, False, True, False, False), (False, False, False, False, False, False, False, False, False, True, False), (False, False, False, False, False, False, False, False, False, False, False), (False, False, False, False, False, False, False, False, False, False, False))\n",
      "13 (7, 9)\n",
      "   ((False, False, False, False, False, False, False, False, False, False, False), (False, False, False, False, False, False, False, False, False, False, False), (False, False, False, False, False, False, False, False, False, False, False), (False, False, False, False, False, False, False, False, False, False, False), (False, False, False, False, False, False, False, False, False, False, False), (False, False, False, False, False, False, False, False, False, False, True), (False, False, False, False, False, False, False, False, False, True, False), (False, False, False, False, False, False, False, False, False, False, True), (False, False, False, False, False, False, False, False, False, False, False), (False, False, False, False, False, False, False, False, False, False, False), (False, False, False, False, False, False, False, False, False, False, False))\n",
      "14 (6, 10)\n",
      "¡Meta lograda con costo =  14 !\n",
      "   ((False, False, False, False, False, False, False, False, False, False, False), (False, False, False, False, False, False, False, False, False, False, False), (False, False, False, False, False, False, False, False, False, False, False), (False, False, False, False, False, False, False, False, False, False, False), (False, False, False, False, False, False, False, False, False, False, False), (False, False, False, False, False, False, False, False, False, False, False), (False, False, False, False, False, False, False, False, False, False, False), (False, False, False, False, False, False, False, False, False, False, False), (False, False, False, False, False, False, False, False, False, False, False), (False, False, False, False, False, False, False, False, False, False, False), (False, False, False, False, False, False, False, False, False, False, False))\n"
     ]
    }
   ],
   "source": [
    "# Busqueda de A* con BaseViewer\n",
    "\n",
    "astar_viewer = BaseViewer()       # Solo estadísticas\n",
    "result = astar(Cleanup(init,goal), graph_search=True, viewer=astar_viewer)\n",
    "print()\n",
    "print('>> Búsqueda A* <<')\n",
    "display(result)"
   ]
  },
  {
   "cell_type": "code",
   "execution_count": 25,
   "metadata": {},
   "outputs": [
    {
     "name": "stdout",
     "output_type": "stream",
     "text": [
      "\n",
      ">> Greedy <<\n",
      "Configuración inicial\n",
      "   ((False, False, False, False, False, False, False, True, False, False, False), (False, False, True, False, True, False, False, True, True, False, False), (False, False, False, True, False, True, True, True, True, False, False), (True, False, False, False, False, False, False, True, False, False, False), (False, True, False, False, False, False, False, False, False, False, False), (True, False, False, False, False, False, False, False, False, False, True), (False, False, False, False, False, False, False, False, False, True, False), (False, False, False, False, False, False, False, False, True, True, True), (False, False, False, False, True, False, False, True, True, True, True), (True, False, False, True, False, True, False, False, True, False, False), (False, True, False, False, True, False, False, False, True, False, True))\n",
      "1 (7, 9)\n",
      "   ((False, False, False, False, False, False, False, True, False, False, False), (False, False, True, False, True, False, False, True, True, False, False), (False, False, False, True, False, True, True, True, True, False, False), (True, False, False, False, False, False, False, True, False, False, False), (False, True, False, False, False, False, False, False, False, False, False), (True, False, False, False, False, False, False, False, False, False, True), (False, False, False, False, False, False, False, False, False, False, False), (False, False, False, False, False, False, False, False, False, True, False), (False, False, False, False, True, False, False, True, True, False, True), (True, False, False, True, False, True, False, False, True, False, False), (False, True, False, False, True, False, False, False, True, False, True))\n",
      "2 (2, 7)\n",
      "   ((False, False, False, False, False, False, False, True, False, False, False), (False, False, True, False, True, False, False, False, True, False, False), (False, False, False, True, False, True, False, True, False, False, False), (True, False, False, False, False, False, False, False, False, False, False), (False, True, False, False, False, False, False, False, False, False, False), (True, False, False, False, False, False, False, False, False, False, True), (False, False, False, False, False, False, False, False, False, False, False), (False, False, False, False, False, False, False, False, False, True, False), (False, False, False, False, True, False, False, True, True, False, True), (True, False, False, True, False, True, False, False, True, False, False), (False, True, False, False, True, False, False, False, True, False, True))\n",
      "3 (9, 4)\n",
      "   ((False, False, False, False, False, False, False, True, False, False, False), (False, False, True, False, True, False, False, False, True, False, False), (False, False, False, True, False, True, False, True, False, False, False), (True, False, False, False, False, False, False, False, False, False, False), (False, True, False, False, False, False, False, False, False, False, False), (True, False, False, False, False, False, False, False, False, False, True), (False, False, False, False, False, False, False, False, False, False, False), (False, False, False, False, False, False, False, False, False, True, False), (False, False, False, False, False, False, False, True, True, False, True), (True, False, False, False, False, False, False, False, True, False, False), (False, True, False, False, False, False, False, False, True, False, True))\n",
      "4 (4, 0)\n",
      "   ((False, False, False, False, False, False, False, True, False, False, False), (False, False, True, False, True, False, False, False, True, False, False), (False, False, False, True, False, True, False, True, False, False, False), (False, False, False, False, False, False, False, False, False, False, False), (False, False, False, False, False, False, False, False, False, False, False), (False, False, False, False, False, False, False, False, False, False, True), (False, False, False, False, False, False, False, False, False, False, False), (False, False, False, False, False, False, False, False, False, True, False), (False, False, False, False, False, False, False, True, True, False, True), (True, False, False, False, False, False, False, False, True, False, False), (False, True, False, False, False, False, False, False, True, False, True))\n",
      "5 (1, 3)\n",
      "   ((False, False, False, True, False, False, False, True, False, False, False), (False, False, False, False, False, False, False, False, True, False, False), (False, False, False, False, False, True, False, True, False, False, False), (False, False, False, False, False, False, False, False, False, False, False), (False, False, False, False, False, False, False, False, False, False, False), (False, False, False, False, False, False, False, False, False, False, True), (False, False, False, False, False, False, False, False, False, False, False), (False, False, False, False, False, False, False, False, False, True, False), (False, False, False, False, False, False, False, True, True, False, True), (True, False, False, False, False, False, False, False, True, False, False), (False, True, False, False, False, False, False, False, True, False, True))\n",
      "6 (1, 7)\n",
      "   ((False, False, False, True, False, False, False, False, False, False, False), (False, False, False, False, False, False, True, False, False, False, False), (False, False, False, False, False, True, False, False, False, False, False), (False, False, False, False, False, False, False, False, False, False, False), (False, False, False, False, False, False, False, False, False, False, False), (False, False, False, False, False, False, False, False, False, False, True), (False, False, False, False, False, False, False, False, False, False, False), (False, False, False, False, False, False, False, False, False, True, False), (False, False, False, False, False, False, False, True, True, False, True), (True, False, False, False, False, False, False, False, True, False, False), (False, True, False, False, False, False, False, False, True, False, True))\n",
      "7 (8, 9)\n",
      "   ((False, False, False, True, False, False, False, False, False, False, False), (False, False, False, False, False, False, True, False, False, False, False), (False, False, False, False, False, True, False, False, False, False, False), (False, False, False, False, False, False, False, False, False, False, False), (False, False, False, False, False, False, False, False, False, False, False), (False, False, False, False, False, False, False, False, False, False, True), (False, False, False, False, False, False, False, False, False, False, False), (False, False, False, False, False, False, False, False, False, False, False), (False, False, False, False, False, False, False, True, False, False, False), (True, False, False, False, False, False, False, False, True, True, False), (False, True, False, False, False, False, False, False, True, False, True))\n",
      "8 (10, 9)\n",
      "   ((False, False, False, True, False, False, False, False, False, False, False), (False, False, False, False, False, False, True, False, False, False, False), (False, False, False, False, False, True, False, False, False, False, False), (False, False, False, False, False, False, False, False, False, False, False), (False, False, False, False, False, False, False, False, False, False, False), (False, False, False, False, False, False, False, False, False, False, True), (False, False, False, False, False, False, False, False, False, False, False), (False, False, False, False, False, False, False, False, False, False, False), (False, False, False, False, False, False, False, True, False, False, False), (True, False, False, False, False, False, False, False, True, False, False), (False, True, False, False, False, False, False, False, False, False, False))\n",
      "9 (10, 0)\n",
      "   ((False, False, False, True, False, False, False, False, False, False, False), (False, False, False, False, False, False, True, False, False, False, False), (False, False, False, False, False, True, False, False, False, False, False), (False, False, False, False, False, False, False, False, False, False, False), (False, False, False, False, False, False, False, False, False, False, False), (False, False, False, False, False, False, False, False, False, False, True), (False, False, False, False, False, False, False, False, False, False, False), (False, False, False, False, False, False, False, False, False, False, False), (False, False, False, False, False, False, False, True, False, False, False), (False, False, False, False, False, False, False, False, True, False, False), (False, False, False, False, False, False, False, False, False, False, False))\n",
      "10 (1, 5)\n",
      "   ((False, False, False, True, False, True, False, False, False, False, False), (False, False, False, False, True, False, False, False, False, False, False), (False, False, False, False, False, False, False, False, False, False, False), (False, False, False, False, False, False, False, False, False, False, False), (False, False, False, False, False, False, False, False, False, False, False), (False, False, False, False, False, False, False, False, False, False, True), (False, False, False, False, False, False, False, False, False, False, False), (False, False, False, False, False, False, False, False, False, False, False), (False, False, False, False, False, False, False, True, False, False, False), (False, False, False, False, False, False, False, False, True, False, False), (False, False, False, False, False, False, False, False, False, False, False))\n",
      "11 (0, 4)\n",
      "   ((False, False, False, False, False, False, False, False, False, False, False), (False, False, False, False, False, False, False, False, False, False, False), (False, False, False, False, False, False, False, False, False, False, False), (False, False, False, False, False, False, False, False, False, False, False), (False, False, False, False, False, False, False, False, False, False, False), (False, False, False, False, False, False, False, False, False, False, True), (False, False, False, False, False, False, False, False, False, False, False), (False, False, False, False, False, False, False, False, False, False, False), (False, False, False, False, False, False, False, True, False, False, False), (False, False, False, False, False, False, False, False, True, False, False), (False, False, False, False, False, False, False, False, False, False, False))\n",
      "12 (8, 8)\n",
      "   ((False, False, False, False, False, False, False, False, False, False, False), (False, False, False, False, False, False, False, False, False, False, False), (False, False, False, False, False, False, False, False, False, False, False), (False, False, False, False, False, False, False, False, False, False, False), (False, False, False, False, False, False, False, False, False, False, False), (False, False, False, False, False, False, False, False, False, False, True), (False, False, False, False, False, False, False, False, False, False, False), (False, False, False, False, False, False, False, False, True, False, False), (False, False, False, False, False, False, False, False, False, True, False), (False, False, False, False, False, False, False, False, False, False, False), (False, False, False, False, False, False, False, False, False, False, False))\n",
      "13 (7, 9)\n",
      "   ((False, False, False, False, False, False, False, False, False, False, False), (False, False, False, False, False, False, False, False, False, False, False), (False, False, False, False, False, False, False, False, False, False, False), (False, False, False, False, False, False, False, False, False, False, False), (False, False, False, False, False, False, False, False, False, False, False), (False, False, False, False, False, False, False, False, False, False, True), (False, False, False, False, False, False, False, False, False, True, False), (False, False, False, False, False, False, False, False, False, False, True), (False, False, False, False, False, False, False, False, False, False, False), (False, False, False, False, False, False, False, False, False, False, False), (False, False, False, False, False, False, False, False, False, False, False))\n",
      "14 (6, 10)\n",
      "¡Meta lograda con costo =  14 !\n",
      "   ((False, False, False, False, False, False, False, False, False, False, False), (False, False, False, False, False, False, False, False, False, False, False), (False, False, False, False, False, False, False, False, False, False, False), (False, False, False, False, False, False, False, False, False, False, False), (False, False, False, False, False, False, False, False, False, False, False), (False, False, False, False, False, False, False, False, False, False, False), (False, False, False, False, False, False, False, False, False, False, False), (False, False, False, False, False, False, False, False, False, False, False), (False, False, False, False, False, False, False, False, False, False, False), (False, False, False, False, False, False, False, False, False, False, False), (False, False, False, False, False, False, False, False, False, False, False))\n"
     ]
    }
   ],
   "source": [
    "# Busqueda de Greedy con BaseViewer\n",
    "\n",
    "greedy_viewer = BaseViewer()       # Solo estadísticas\n",
    "result = greedy(Cleanup(init,goal), graph_search=True, viewer=greedy_viewer)\n",
    "print()\n",
    "print('>> Greedy <<')\n",
    "display(result)"
   ]
  },
  {
   "cell_type": "code",
   "execution_count": 26,
   "metadata": {},
   "outputs": [
    {
     "name": "stdout",
     "output_type": "stream",
     "text": [
      "A* Stats:\n",
      "{'max_fringe_size': 450, 'visited_nodes': 20, 'iterations': 20}\n",
      "\n",
      "Greedy Stats:\n",
      "{'max_fringe_size': 420, 'visited_nodes': 17, 'iterations': 17}\n"
     ]
    }
   ],
   "source": [
    "# Estadísticas de las búsquedas\n",
    "\n",
    "if astar_viewer != None:\n",
    "    print('A* Stats:')\n",
    "    print(astar_viewer.stats)\n",
    "\n",
    "print()\n",
    "\n",
    "if greedy_viewer != None:\n",
    "    print('Greedy Stats:')\n",
    "    print(greedy_viewer.stats)"
   ]
  }
 ],
 "metadata": {
  "kernelspec": {
   "display_name": "ML",
   "language": "python",
   "name": "python3"
  },
  "language_info": {
   "codemirror_mode": {
    "name": "ipython",
    "version": 3
   },
   "file_extension": ".py",
   "mimetype": "text/x-python",
   "name": "python",
   "nbconvert_exporter": "python",
   "pygments_lexer": "ipython3",
   "version": "3.11.3"
  },
  "orig_nbformat": 4
 },
 "nbformat": 4,
 "nbformat_minor": 2
}
