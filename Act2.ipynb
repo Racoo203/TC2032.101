{
 "cells": [
  {
   "cell_type": "code",
   "execution_count": 1,
   "metadata": {},
   "outputs": [],
   "source": [
    "from simpleai.search import SearchProblem, astar, breadth_first, depth_first, uniform_cost\n",
    "from simpleai.search.viewers import BaseViewer\n",
    "\n",
    "from tqdm import tqdm"
   ]
  },
  {
   "cell_type": "markdown",
   "metadata": {},
   "source": [
    "PSA de Busqueda Informada utilizando el algoritmo A*"
   ]
  },
  {
   "cell_type": "code",
   "execution_count": 2,
   "metadata": {},
   "outputs": [],
   "source": [
    "class Cleanup(SearchProblem):\n",
    "    def __init__(self, initial, goal):\n",
    "        super().__init__(initial_state = initial)\n",
    "        self.goal_state = goal\n",
    "        self.visited_states = {}\n",
    "\n",
    "    def actions(self, state):\n",
    "        \n",
    "        valid_actions = []\n",
    "        for i in range(len(state)):\n",
    "            for j in range(len(state[0])):\n",
    "                valid_actions.append((i, j))\n",
    "        return valid_actions\n",
    "    \n",
    "    def result(self, state, action):\n",
    "        i, j = action\n",
    "        child_state = [list(row) for row in state]\n",
    "\n",
    "        if child_state in self.visited_states:\n",
    "            return None\n",
    "\n",
    "        if i - 1 >= 0:\n",
    "            child_state[i - 1][j] = not child_state[i - 1][j]\n",
    "        if j - 1 >= 0:\n",
    "            child_state[i][j - 1] = not child_state[i][j - 1]\n",
    "        if j + 1 < len(state[0]):\n",
    "            child_state[i][j + 1] = not child_state[i][j + 1]\n",
    "        if i + 1 < len(state):\n",
    "            child_state[i + 1][j] = not child_state[i + 1][j]\n",
    "\n",
    "        return tuple([tuple(row) for row in child_state])\n",
    "    \n",
    "    def is_goal(self, state):\n",
    "        return state == self.goal_state\n",
    "    \n",
    "    def cost(self, state, action, state2):\n",
    "        return 1\n",
    "    \n",
    "    def heuristic(self, state):\n",
    "        sum(state)\n",
    "        return sum(state)"
   ]
  },
  {
   "cell_type": "code",
   "execution_count": 3,
   "metadata": {},
   "outputs": [],
   "source": [
    "def display(result):\n",
    "    if result is not None:\n",
    "        for i, (action, state) in enumerate(result.path()):\n",
    "            if action == None:\n",
    "                print('Configuración inicial')\n",
    "            elif i == len(result.path()) - 1:\n",
    "                print(i, action)\n",
    "                print('¡Meta lograda con costo = ', result.cost,'!')\n",
    "            else:\n",
    "                print(i, action)\n",
    "\n",
    "            print('  ', state)\n",
    "    else:\n",
    "        print('Mala configuración del problema')"
   ]
  },
  {
   "cell_type": "code",
   "execution_count": 4,
   "metadata": {},
   "outputs": [],
   "source": [
    "# init = ((False, False, True, False, False),\n",
    "#         (False, True, False, True, False),\n",
    "#         (False, False, True, False, False),\n",
    "#         (False, False, False, False, False),\n",
    "#         (False, False, False, False, False))\n",
    "\n",
    "# goal = ((False, False, False, False, False),\n",
    "#         (False, False, False, False, False),\n",
    "#         (False, False, False, False, False),\n",
    "#         (False, False, False, False, False),\n",
    "#         (False, False, False, False, False))\n",
    "\n",
    "init = ((True, True, True, False, False, False, False, False, False, False, False),\n",
    "        (True, True, False, True, False, False, False, False, False, False, False),\n",
    "        (False, False, False, False, False, False, False, False, False, False, False),\n",
    "        (False, False, False, False, False, False, False, False, False, False, False),\n",
    "        (False, False, False, False, False, False, False, False, False, False, False),\n",
    "        (False, False, False, False, False, False, False, False, False, False, False),\n",
    "        (False, False, False, False, False, False, False, False, False, False, False),\n",
    "        (False, False, False, False, False, False, False, False, False, False, False),\n",
    "        (False, False, False, False, False, False, False, False, False, False, False),\n",
    "        (False, False, False, False, False, False, False, False, False, False, False),\n",
    "        (False, False, False, False, False, False, False, False, False, False, False))\n",
    "\n",
    "goal = ((False, False, False, False, False, False, False, False, False, False, False),\n",
    "        (False, False, False, False, False, False, False, False, False, False, False),\n",
    "        (False, False, False, False, False, False, False, False, False, False, False),\n",
    "        (False, False, False, False, False, False, False, False, False, False, False),\n",
    "        (False, False, False, False, False, False, False, False, False, False, False),\n",
    "        (False, False, False, False, False, False, False, False, False, False, False),\n",
    "        (False, False, False, False, False, False, False, False, False, False, False),\n",
    "        (False, False, False, False, False, False, False, False, False, False, False),\n",
    "        (False, False, False, False, False, False, False, False, False, False, False),\n",
    "        (False, False, False, False, False, False, False, False, False, False, False),\n",
    "        (False, False, False, False, False, False, False, False, False, False, False))\n"
   ]
  },
  {
   "cell_type": "code",
   "execution_count": 5,
   "metadata": {},
   "outputs": [
    {
     "ename": "TypeError",
     "evalue": "unhashable type: 'list'",
     "output_type": "error",
     "traceback": [
      "\u001b[1;31m---------------------------------------------------------------------------\u001b[0m",
      "\u001b[1;31mTypeError\u001b[0m                                 Traceback (most recent call last)",
      "Cell \u001b[1;32mIn[5], line 4\u001b[0m\n\u001b[0;32m      1\u001b[0m my_viewer \u001b[39m=\u001b[39m BaseViewer()       \u001b[39m# Solo estadísticas\u001b[39;00m\n\u001b[0;32m      3\u001b[0m \u001b[39m# result = astar(Cleanup(init,goal), graph_search=True)\u001b[39;00m\n\u001b[1;32m----> 4\u001b[0m result \u001b[39m=\u001b[39m breadth_first(Cleanup(init,goal), graph_search\u001b[39m=\u001b[39m\u001b[39mTrue\u001b[39;00m)\n\u001b[0;32m      5\u001b[0m \u001b[39m# result = depth_first(Cleanup(init,goal), graph_search=True)\u001b[39;00m\n\u001b[0;32m      6\u001b[0m \u001b[39m# result = uniform_cost(Cleanup(init,goal), graph_search=True)\u001b[39;00m\n\u001b[0;32m      8\u001b[0m \u001b[39mif\u001b[39;00m my_viewer \u001b[39m!=\u001b[39m \u001b[39mNone\u001b[39;00m:\n",
      "File \u001b[1;32mc:\\Users\\Raul\\miniconda3\\envs\\ML\\Lib\\site-packages\\simpleai\\search\\traditional.py:16\u001b[0m, in \u001b[0;36mbreadth_first\u001b[1;34m(problem, graph_search, viewer)\u001b[0m\n\u001b[0;32m      8\u001b[0m \u001b[39mdef\u001b[39;00m \u001b[39mbreadth_first\u001b[39m(problem, graph_search\u001b[39m=\u001b[39m\u001b[39mFalse\u001b[39;00m, viewer\u001b[39m=\u001b[39m\u001b[39mNone\u001b[39;00m):\n\u001b[0;32m      9\u001b[0m \u001b[39m    \u001b[39m\u001b[39m'''\u001b[39;00m\n\u001b[0;32m     10\u001b[0m \u001b[39m    Breadth first search.\u001b[39;00m\n\u001b[0;32m     11\u001b[0m \n\u001b[1;32m   (...)\u001b[0m\n\u001b[0;32m     14\u001b[0m \u001b[39m    SearchProblem.is_goal.\u001b[39;00m\n\u001b[0;32m     15\u001b[0m \u001b[39m    '''\u001b[39;00m\n\u001b[1;32m---> 16\u001b[0m     \u001b[39mreturn\u001b[39;00m _search(problem,\n\u001b[0;32m     17\u001b[0m                    FifoList(),\n\u001b[0;32m     18\u001b[0m                    graph_search\u001b[39m=\u001b[39mgraph_search,\n\u001b[0;32m     19\u001b[0m                    viewer\u001b[39m=\u001b[39mviewer)\n",
      "File \u001b[1;32mc:\\Users\\Raul\\miniconda3\\envs\\ML\\Lib\\site-packages\\simpleai\\search\\traditional.py:156\u001b[0m, in \u001b[0;36m_search\u001b[1;34m(problem, fringe, graph_search, depth_limit, node_factory, graph_replace_when_better, viewer)\u001b[0m\n\u001b[0;32m    153\u001b[0m memory\u001b[39m.\u001b[39madd(node\u001b[39m.\u001b[39mstate)\n\u001b[0;32m    155\u001b[0m \u001b[39mif\u001b[39;00m depth_limit \u001b[39mis\u001b[39;00m \u001b[39mNone\u001b[39;00m \u001b[39mor\u001b[39;00m node\u001b[39m.\u001b[39mdepth \u001b[39m<\u001b[39m depth_limit:\n\u001b[1;32m--> 156\u001b[0m     expanded \u001b[39m=\u001b[39m node\u001b[39m.\u001b[39mexpand()\n\u001b[0;32m    157\u001b[0m     \u001b[39mif\u001b[39;00m viewer:\n\u001b[0;32m    158\u001b[0m         viewer\u001b[39m.\u001b[39mevent(\u001b[39m'\u001b[39m\u001b[39mexpanded\u001b[39m\u001b[39m'\u001b[39m, [node], [expanded])\n",
      "File \u001b[1;32mc:\\Users\\Raul\\miniconda3\\envs\\ML\\Lib\\site-packages\\simpleai\\search\\models.py:106\u001b[0m, in \u001b[0;36mSearchNode.expand\u001b[1;34m(self, local_search)\u001b[0m\n\u001b[0;32m    104\u001b[0m new_nodes \u001b[39m=\u001b[39m []\n\u001b[0;32m    105\u001b[0m \u001b[39mfor\u001b[39;00m action \u001b[39min\u001b[39;00m \u001b[39mself\u001b[39m\u001b[39m.\u001b[39mproblem\u001b[39m.\u001b[39mactions(\u001b[39mself\u001b[39m\u001b[39m.\u001b[39mstate):\n\u001b[1;32m--> 106\u001b[0m     new_state \u001b[39m=\u001b[39m \u001b[39mself\u001b[39m\u001b[39m.\u001b[39mproblem\u001b[39m.\u001b[39mresult(\u001b[39mself\u001b[39m\u001b[39m.\u001b[39mstate, action)\n\u001b[0;32m    107\u001b[0m     cost \u001b[39m=\u001b[39m \u001b[39mself\u001b[39m\u001b[39m.\u001b[39mproblem\u001b[39m.\u001b[39mcost(\u001b[39mself\u001b[39m\u001b[39m.\u001b[39mstate,\n\u001b[0;32m    108\u001b[0m                              action,\n\u001b[0;32m    109\u001b[0m                              new_state)\n\u001b[0;32m    110\u001b[0m     nodefactory \u001b[39m=\u001b[39m \u001b[39mself\u001b[39m\u001b[39m.\u001b[39m\u001b[39m__class__\u001b[39m\n",
      "Cell \u001b[1;32mIn[2], line 19\u001b[0m, in \u001b[0;36mCleanup.result\u001b[1;34m(self, state, action)\u001b[0m\n\u001b[0;32m     16\u001b[0m i, j \u001b[39m=\u001b[39m action\n\u001b[0;32m     17\u001b[0m child_state \u001b[39m=\u001b[39m [\u001b[39mlist\u001b[39m(row) \u001b[39mfor\u001b[39;00m row \u001b[39min\u001b[39;00m state]\n\u001b[1;32m---> 19\u001b[0m \u001b[39mif\u001b[39;00m child_state \u001b[39min\u001b[39;00m \u001b[39mself\u001b[39m\u001b[39m.\u001b[39mvisited_states:\n\u001b[0;32m     20\u001b[0m     \u001b[39mreturn\u001b[39;00m \u001b[39mNone\u001b[39;00m\n\u001b[0;32m     22\u001b[0m \u001b[39mif\u001b[39;00m i \u001b[39m-\u001b[39m \u001b[39m1\u001b[39m \u001b[39m>\u001b[39m\u001b[39m=\u001b[39m \u001b[39m0\u001b[39m:\n",
      "\u001b[1;31mTypeError\u001b[0m: unhashable type: 'list'"
     ]
    }
   ],
   "source": [
    "my_viewer = BaseViewer()       # Solo estadísticas\n",
    "\n",
    "# result = astar(Cleanup(init,goal), graph_search=True)\n",
    "result = breadth_first(Cleanup(init,goal), graph_search=True)\n",
    "# result = depth_first(Cleanup(init,goal), graph_search=True)\n",
    "# result = uniform_cost(Cleanup(init,goal), graph_search=True)\n",
    "\n",
    "if my_viewer != None:\n",
    "    print('Stats:')\n",
    "    print(my_viewer.stats)\n",
    "\n",
    "print()\n",
    "print('>> Búsqueda A* <<')\n",
    "display(result)\n"
   ]
  },
  {
   "cell_type": "code",
   "execution_count": null,
   "metadata": {},
   "outputs": [],
   "source": []
  },
  {
   "cell_type": "code",
   "execution_count": null,
   "metadata": {},
   "outputs": [],
   "source": []
  }
 ],
 "metadata": {
  "kernelspec": {
   "display_name": "ML",
   "language": "python",
   "name": "python3"
  },
  "language_info": {
   "codemirror_mode": {
    "name": "ipython",
    "version": 3
   },
   "file_extension": ".py",
   "mimetype": "text/x-python",
   "name": "python",
   "nbconvert_exporter": "python",
   "pygments_lexer": "ipython3",
   "version": "3.11.3"
  },
  "orig_nbformat": 4
 },
 "nbformat": 4,
 "nbformat_minor": 2
}
