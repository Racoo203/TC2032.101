{
 "cells": [
  {
   "cell_type": "code",
   "execution_count": 3,
   "metadata": {},
   "outputs": [],
   "source": [
    "# Simpleai.search es la librería desde la que importaremos los algoritmos de búsqueda\n",
    "from simpleai.search import SearchProblem, astar, greedy, breadth_first, depth_first\n",
    "# BaseViewer nos ayuda a resumir los resultados de la búsqueda\n",
    "from simpleai.search.viewers import BaseViewer"
   ]
  },
  {
   "cell_type": "code",
   "execution_count": 14,
   "metadata": {},
   "outputs": [
    {
     "name": "stdout",
     "output_type": "stream",
     "text": [
      "1815 756\n"
     ]
    },
    {
     "data": {
      "text/plain": [
       "173.44961914062512"
      ]
     },
     "execution_count": 14,
     "metadata": {},
     "output_type": "execute_result"
    }
   ],
   "source": [
    "import numpy as np\n",
    "mars_map = np.load('mars_map.npy')\n",
    "nr, nc = mars_map.shape\n",
    "print(nr, nc)\n",
    "mars_map[900][300]"
   ]
  },
  {
   "cell_type": "code",
   "execution_count": 4,
   "metadata": {},
   "outputs": [],
   "source": [
    "class Rover(SearchProblem):\n",
    "    # Definimos el problema de búsqueda. Rover hereda de SearchProblem y toma como parametros\n",
    "    # el estado inicial y el estado meta\n",
    "    def __init__(self, initial, goal):\n",
    "        super().__init__(initial_state = initial)\n",
    "        self.goal_state = goal\n",
    "\n",
    "    def actions(self, state):\n",
    "        ...\n",
    "    \n",
    "    def result(self, state, action):\n",
    "        ...\n",
    "    \n",
    "    # Checa si el estado actual es el estado meta\n",
    "    def is_goal(self, state):\n",
    "        return state == self.goal_state\n",
    "    \n",
    "    # Define el costo de una acción, en este caso, todas las acciones tienen costo 1\n",
    "    def cost(self, state, action, state2):\n",
    "        return 1\n",
    "\n",
    "    # Define la heurística a utilizar\n",
    "    def heuristic(self, state):\n",
    "        ..."
   ]
  },
  {
   "cell_type": "code",
   "execution_count": null,
   "metadata": {},
   "outputs": [],
   "source": []
  }
 ],
 "metadata": {
  "kernelspec": {
   "display_name": "ML",
   "language": "python",
   "name": "python3"
  },
  "language_info": {
   "codemirror_mode": {
    "name": "ipython",
    "version": 3
   },
   "file_extension": ".py",
   "mimetype": "text/x-python",
   "name": "python",
   "nbconvert_exporter": "python",
   "pygments_lexer": "ipython3",
   "version": "3.11.3"
  },
  "orig_nbformat": 4
 },
 "nbformat": 4,
 "nbformat_minor": 2
}
