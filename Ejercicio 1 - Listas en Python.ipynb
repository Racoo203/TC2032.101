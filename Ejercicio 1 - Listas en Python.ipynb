{
 "cells": [
  {
   "cell_type": "markdown",
   "metadata": {},
   "source": [
    "Atributos:\n",
    "\n",
    "1. Un arreglo llamado data de tamaño MAX (MAX es una constante de 100) elementos de tipo entero.\n",
    "\n",
    "2. Un entero llamado size que contenga la cantidad de datos utilizados y almacenados en el arreglo."
   ]
  },
  {
   "cell_type": "code",
   "execution_count": 2,
   "metadata": {},
   "outputs": [
    {
     "name": "stdout",
     "output_type": "stream",
     "text": [
      "100\n"
     ]
    }
   ],
   "source": [
    "MAX = 100\n",
    "lista = [0] * MAX\n",
    "print(len(lista))\n"
   ]
  },
  {
   "cell_type": "markdown",
   "metadata": {},
   "source": [
    "Operaciones:\n",
    "\n",
    "1. insert - Recibe el valor del número se desea insertar, si hay espacio disponible, se coloca al final del arreglo y se incrementa en uno size.\n",
    "\n",
    "2. erase - En caso de que el arreglo no está vacío, despliega el último elemento del arreglo (el que está en la posición size-1) y disminuye en 1 el tamaño de size. En caso de que este vacío el arreglo despliega “NO HAY ELEMENTOS”.\n",
    "\n",
    "3. getData – Recibe la posición de donde se desea obtener la información, y regresa el contenido del arreglo en esa posición. La precondición es que la posición es un valor existente dentro de los datos (0 <= pos < size).\n",
    "\n",
    "4. getSize – Regresa el valor del atributo size.\n",
    "\n",
    "5. print - Imprime la lista de datos, uno por línea con el sig. formato:\n",
    "\n",
    "Ejemplo:\n",
    "\n",
    "[0] – 154\n",
    "\n",
    "[1] – 587\n",
    "\n",
    "[2] – 874"
   ]
  },
  {
   "cell_type": "code",
   "execution_count": null,
   "metadata": {},
   "outputs": [],
   "source": []
  }
 ],
 "metadata": {
  "kernelspec": {
   "display_name": "ML",
   "language": "python",
   "name": "python3"
  },
  "language_info": {
   "codemirror_mode": {
    "name": "ipython",
    "version": 3
   },
   "file_extension": ".py",
   "mimetype": "text/x-python",
   "name": "python",
   "nbconvert_exporter": "python",
   "pygments_lexer": "ipython3",
   "version": "3.11.3"
  },
  "orig_nbformat": 4
 },
 "nbformat": 4,
 "nbformat_minor": 2
}
