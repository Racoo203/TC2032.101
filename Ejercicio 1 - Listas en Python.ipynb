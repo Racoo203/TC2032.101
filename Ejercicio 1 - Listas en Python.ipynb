{
 "cells": [
  {
   "cell_type": "markdown",
   "metadata": {},
   "source": [
    "**Ejercicio 1: Clase de Listas en Python**\n",
    "\n",
    "Raúl Correa Ocañas\n",
    "\n",
    "A01722401\n",
    "\n",
    "08/08/2023"
   ]
  },
  {
   "cell_type": "code",
   "execution_count": 1,
   "metadata": {},
   "outputs": [],
   "source": [
    "class Listas:\n",
    "    MAX = 100\n",
    "    size = 0 # Ningún elemento en la lista al inicio / funciona también como un indice\n",
    "    data = [0 for i in range(MAX)] # Genera una lista de 100 ceros\n",
    "\n",
    "    def insert(self, num):\n",
    "        if self.size < self.MAX:\n",
    "            self.data[self.size] = num\n",
    "            self.size += 1\n",
    "    def erase(self):\n",
    "        if self.size > 0:\n",
    "            self.size -= 1\n",
    "            del self.data[self.size]\n",
    "        else: print(\"NO HAY ELEMENTOS\")\n",
    "    def getData(self, index):\n",
    "        if index >= 0 and index < self.size:\n",
    "            print(self.data[index])\n",
    "        else: print(\"ERROR EN EL INDICE\")\n",
    "    def getSize(self):\n",
    "        return self.size\n",
    "    def print(self):\n",
    "        for i in range(self.size):\n",
    "            print(\"[%d]\" % (i),\"-\",self.data[i])"
   ]
  },
  {
   "cell_type": "code",
   "execution_count": 2,
   "metadata": {},
   "outputs": [
    {
     "name": "stdout",
     "output_type": "stream",
     "text": [
      "[0] - 0\n",
      "[1] - 4\n",
      "[2] - 1\n",
      "[3] - 5\n",
      "[4] - 2\n",
      "[5] - 6\n",
      "[6] - 3\n",
      "[7] - 0\n",
      "[8] - 4\n",
      "[9] - 1\n",
      "[10] - 5\n",
      "[11] - 2\n",
      "[12] - 6\n",
      "[13] - 3\n",
      "[14] - 0\n",
      "[15] - 4\n",
      "[16] - 1\n",
      "[17] - 5\n",
      "[18] - 2\n",
      "[19] - 6\n",
      "[20] - 3\n",
      "[21] - 0\n",
      "[22] - 4\n",
      "[23] - 1\n",
      "[24] - 5\n",
      "[25] - 2\n",
      "[26] - 6\n",
      "[27] - 3\n",
      "[28] - 0\n",
      "[29] - 4\n",
      "[30] - 1\n",
      "[31] - 5\n",
      "[32] - 2\n",
      "[33] - 6\n",
      "[34] - 3\n",
      "[35] - 0\n",
      "[36] - 4\n",
      "[37] - 1\n",
      "[38] - 5\n",
      "[39] - 2\n",
      "[40] - 6\n",
      "6\n",
      "ERROR EN EL INDICE\n",
      "2003\n"
     ]
    }
   ],
   "source": [
    "# Pruebas de funcionamiento\n",
    "\n",
    "ob1 = Listas()\n",
    "for i in range(42):\n",
    "    ob1.insert(i*4%7)\n",
    "ob1.erase()\n",
    "ob1.print()\n",
    "ob1.getData(40)\n",
    "ob1.getData(41)\n",
    "ob1.insert(2003)\n",
    "ob1.getData(41)"
   ]
  }
 ],
 "metadata": {
  "kernelspec": {
   "display_name": "ML",
   "language": "python",
   "name": "python3"
  },
  "language_info": {
   "codemirror_mode": {
    "name": "ipython",
    "version": 3
   },
   "file_extension": ".py",
   "mimetype": "text/x-python",
   "name": "python",
   "nbconvert_exporter": "python",
   "pygments_lexer": "ipython3",
   "version": "3.11.3"
  },
  "orig_nbformat": 4
 },
 "nbformat": 4,
 "nbformat_minor": 2
}
