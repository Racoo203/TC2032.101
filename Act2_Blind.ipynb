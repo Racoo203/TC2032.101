{
  "cells": [
    {
      "cell_type": "markdown",
      "metadata": {},
      "source": [
        "### Diseño de Agentes Inteligentes\n",
        "### Tarea 2. Agentes Solucionadores de Problemas (PSA) y búsqueda\n",
        "\n",
        "*Integrantes del Equipo 4* \n",
        "1. Ricardo Kaleb Flores Alfonso     A01198716\n",
        "2. Sebastián Miramontes Soto        A01285296\n",
        "3. Raúl Correa Ocañas               A01722401\n"
      ]
    },
    {
      "cell_type": "markdown",
      "metadata": {},
      "source": [
        "#### Cleanup Puzzle\n",
        "\n",
        "Cleanup Puzzle es un juego de mesa que requiere que limpies el tablero. Para ello, deberás hacer clic en las fichas de un tablero tipo cuadrícula. Cada ficha puede estar vacía o contener una bola. El mosaico en el que haga clic no se verá afectado, pero sus vecinos directos (horizontal y verticalmente) se invertirán (si el mosaico contiene una bola, se vaciará y viceversa). El objetivo es determinar una secuencia de clics que elimine todas las bolas del tablero.\n",
        "\n",
        "El juego, que puedes encontrar y jugar en el enlace https://www.mathsisfun.com/games/cleanup-puzzle.html , consiste en un tablero de 11x11 que se juega en una secuencia de etapas de complejidad incrementada. La complejidad de un escenario está relacionada con la cantidad de bolas en el tablero y sus ubicaciones. En el juego en línea, hay un límite de clics definido para cada etapa y el juego termina cuando no puede encontrar una secuencia de clics lo suficientemente pequeña para limpiar el tablero.\n",
        "Ejemplos de diferentes etapas del juego en línea:\n",
        "\n",
        "![alt text](ejemplo1.png)\n",
        "\n",
        "![alt text](ejemplo2.png)\n"
      ]
    },
    {
      "cell_type": "code",
      "execution_count": 11,
      "metadata": {
        "id": "D6XzCRnPhqp-"
      },
      "outputs": [],
      "source": [
        "import numpy as np\n",
        "from simpleai.search import SearchProblem, depth_first, breadth_first, uniform_cost, greedy, astar\n",
        "from simpleai.search.viewers import BaseViewer, ConsoleViewer, WebViewer"
      ]
    },
    {
      "cell_type": "code",
      "execution_count": 12,
      "metadata": {
        "id": "jMkCNzoshqp_"
      },
      "outputs": [],
      "source": [
        "## Se crean los estados iniciales por dificultad\n",
        "init = ((0, 0, 1, 0, 1, 0, 0, 0, 0, 0, 0),\n",
        "        (0, 0, 0, 1, 0, 0, 0, 0, 0, 0, 0),\n",
        "        (0, 0, 0, 0, 0, 0, 0, 0, 1, 0, 0),\n",
        "        (0, 0, 0, 0, 0, 0, 0, 1, 0, 1, 0),\n",
        "        (0, 0, 0, 0, 0, 0, 0, 0, 1, 0, 0),\n",
        "        (0, 0, 0, 0, 0, 0, 0, 0, 0, 0, 0),\n",
        "        (0, 0, 0, 0, 0, 0, 0, 0, 0, 0, 0),\n",
        "        (0, 0, 0, 0, 0, 0, 0, 0, 0, 0, 0),\n",
        "        (0, 0, 0, 0, 0, 0, 0, 0, 0, 0, 0),\n",
        "        (0, 0, 0, 0, 0, 0, 0, 0, 0, 0, 0),\n",
        "        (0, 0, 0, 0, 0, 0, 0, 0, 0, 0, 0))\n",
        "\n",
        "init2 =((0, 0, 0, 0, 0, 0, 0, 0, 1, 1, 0),\n",
        "        (0, 0, 0, 0, 0, 0, 0, 1, 1, 0, 1),\n",
        "        (0, 0, 0, 0, 0, 0, 0, 0, 0, 1, 1),\n",
        "        (0, 0, 0, 1, 0, 0, 0, 0, 0, 1, 0),\n",
        "        (0, 0, 1, 0, 1, 0, 0, 0, 0, 0, 0),\n",
        "        (0, 0, 0, 1, 0, 0, 0, 0, 0, 1, 0),\n",
        "        (0, 0, 0, 0, 0, 0, 0, 0, 1, 0, 1),\n",
        "        (0, 0, 0, 0, 0, 0, 1, 0, 0, 1, 0),\n",
        "        (0, 0, 0, 0, 0, 1, 0, 1, 0, 0, 0),\n",
        "        (0, 0, 0, 0, 0, 0, 1, 0, 0, 0, 0))\n",
        "\n",
        "init3 =((0, 0, 0, 0, 0, 0, 0, 0, 1, 0, 0),\n",
        "        (0, 0, 0, 0, 0, 0, 0, 1, 0, 1, 0),\n",
        "        (0, 0, 0, 0, 0, 0, 0, 1, 1, 0, 0),\n",
        "        (1, 0, 1, 0, 0, 0, 1, 0, 0, 0, 0),\n",
        "        (0, 0, 0, 1, 0, 0, 0, 0, 0, 1, 0),\n",
        "        (1, 0, 1, 0, 0, 1, 0, 0, 1, 0, 0),\n",
        "        (0, 0, 0, 0, 0, 0, 1, 0, 0, 0, 0),\n",
        "        (0, 0, 0, 1, 0, 0, 0, 0, 0, 0, 0),\n",
        "        (0, 0, 0, 0, 1, 0, 0, 0, 0, 0, 0),\n",
        "        (1, 0, 0, 1, 0, 0, 0, 0, 0, 0, 0),\n",
        "        (0, 1, 1, 0, 1, 0, 0, 0, 0, 0, 0))"
      ]
    },
    {
      "cell_type": "code",
      "execution_count": 13,
      "metadata": {
        "id": "Vh-aZWp8hqqA"
      },
      "outputs": [],
      "source": [
        "#Se suma cuantas bolitas hay alrededor de la coordenada otorgada\n",
        "def adjacents(state, h,w):\n",
        "        try:\n",
        "            x = state[h][w+1]+ state[h][w-1]+state[h+1][w]+state[h-1][w]\n",
        "            return x\n",
        "        except:\n",
        "            try:\n",
        "                x = state[h][w+1]+state[h][w-1]+state[h+1][w]\n",
        "                return x\n",
        "            except:\n",
        "                try:\n",
        "                    x = state[h][w+1]+state[h][w-1]+state[h-1][w]\n",
        "                    return x\n",
        "                except:\n",
        "                    try:\n",
        "                        x = state[h][w+1]+state[h+1][w]+state[h-1][w]\n",
        "                        return x\n",
        "                    except:\n",
        "                        try:\n",
        "                            x = state[h][w-1]+state[h+1][w]+state[h-1][w]\n",
        "                            return x\n",
        "                        except:\n",
        "                                try:\n",
        "                                    x = state[h][w+1]+state[h+1][w]\n",
        "                                    return x\n",
        "                                except:\n",
        "                                    try:\n",
        "                                        x = state[h][w+1]+state[h-1][w]\n",
        "                                        return x\n",
        "                                    except:\n",
        "                                        try:\n",
        "                                            x = state[h][w-1]+state[h+1][w]\n",
        "                                            return x\n",
        "                                        except:\n",
        "                                            try:\n",
        "                                                x = state[h][w-1]+state[h-1][w]\n",
        "                                                return x\n",
        "                                            except:\n",
        "                                                z=1"
      ]
    },
    {
      "cell_type": "code",
      "execution_count": 14,
      "metadata": {
        "id": "sMZTnv0zhqqB"
      },
      "outputs": [],
      "source": [
        "class Mine(SearchProblem):\n",
        "\n",
        "    def init(self, initial):\n",
        "        self.initial = initial\n",
        "        SearchProblem.__init__(self,initial)\n",
        "        self.goal_state = 0\n",
        "\n",
        "    def actions(self,state):\n",
        "      #Para las acciones se eliminan aquellas que agregan 4 o 3 bolitas al tablero y se les asigna un costo dependiendo si estan cerca de la orilla o tienen bolitas alrededor\n",
        "        actions = []\n",
        "        child_state = [list(row) for row in state]\n",
        "        for i in range(11):\n",
        "            for j in range(11):\n",
        "                if adjacents(child_state,i,j) == 4:\n",
        "                  actions.append([i,j,0])\n",
        "                elif adjacents(child_state,i,j) == 3:\n",
        "                  cost = 1\n",
        "                  if i - 1== -1:\n",
        "                    cost = cost -1\n",
        "                  if j -1 == -1:\n",
        "                    cost = cost -1\n",
        "                  if j+1 > len(state[0]):\n",
        "                    cost = cost -1\n",
        "                  if i+1 > len(state):\n",
        "                    cost = cost -1\n",
        "                  actions.append([i,j,cost])\n",
        "\n",
        "                elif adjacents(child_state,i,j) == 2:\n",
        "                  \n",
        "                  cost = 30\n",
        "                  if i - 1== -1:\n",
        "                    cost = cost -15\n",
        "                  if j -1 == -1:\n",
        "                    cost = cost -15\n",
        "                  if j+1 > len(state[0]):\n",
        "                    cost = cost -15\n",
        "                  if i+1 > len(state):\n",
        "                    cost = cost -15\n",
        "                  actions.append([i,j,cost])\n",
        "        return actions\n",
        "\n",
        "\n",
        "    def result(self, state, action):\n",
        "      #Para los resultados se usa not y de esta manera se voltean los valores de las bolitas alrededor de la coordenada dada\n",
        "        i = action[0]\n",
        "        j = action[1]\n",
        "        child_state = [list(row) for row in state]\n",
        "\n",
        "        if i - 1 >= 0:\n",
        "            child_state[i - 1][j] = not child_state[i - 1][j]\n",
        "        if j - 1 >= 0:\n",
        "            child_state[i][j - 1] = not child_state[i][j - 1]\n",
        "        if j + 1 < len(state[0]):\n",
        "            child_state[i][j + 1] = not child_state[i][j + 1]\n",
        "        if i + 1 < len(state):\n",
        "            child_state[i + 1][j] = not child_state[i + 1][j]\n",
        "        return tuple([tuple(row) for row in child_state])\n",
        "\n",
        "    def is_goal(self,state):\n",
        "      #Cuando la suma de las bolitas es 0 se ha llegado a la meta\n",
        "        found_goal = np.sum(state) == 0\n",
        "        return found_goal\n",
        "    def cost(self,state1,action,state2):\n",
        "      #En esa posición esta guardado el costo de la acción\n",
        "          return action[2]\n",
        "\n",
        "# Función para mostrar el resultado de la búsqueda\n",
        "def display(result):\n",
        "    if result is not None:\n",
        "        for i, (action, state) in enumerate(result.path()):\n",
        "            if action == None:\n",
        "              print('Configuración inicial')\n",
        "            elif i == len(result.path()) - 1:\n",
        "              print(i, action)\n",
        "              print('¡Meta lograda con costo = ', result.cost,'!')\n",
        "            else:\n",
        "              print(i, action)\n",
        "\n",
        "            print('  ', state)\n",
        "    else:\n",
        "      print('Mala configuración del problema')\n",
        "\n",
        "\n",
        "\n",
        "\n",
        "\n"
      ]
    },
    {
      "cell_type": "code",
      "execution_count": 15,
      "metadata": {
        "colab": {
          "base_uri": "https://localhost:8080/",
          "height": 1000
        },
        "id": "ghBc_o04hqqB",
        "outputId": "165e9a34-4b9a-42cc-dbb6-a105efd5ae9b"
      },
      "outputs": [
        {
          "ename": "MemoryError",
          "evalue": "",
          "output_type": "error",
          "traceback": [
            "\u001b[1;31m---------------------------------------------------------------------------\u001b[0m",
            "\u001b[1;31mMemoryError\u001b[0m                               Traceback (most recent call last)",
            "Cell \u001b[1;32mIn[15], line 3\u001b[0m\n\u001b[0;32m      1\u001b[0m \u001b[39m# Crea un PSA y lo resuelve con la búsqueda primero en anchura\u001b[39;00m\n\u001b[0;32m      2\u001b[0m my_viewer \u001b[39m=\u001b[39m BaseViewer()\n\u001b[1;32m----> 3\u001b[0m result \u001b[39m=\u001b[39m uniform_cost(Mine(init3),graph_search\u001b[39m=\u001b[39;49m\u001b[39mTrue\u001b[39;49;00m, viewer\u001b[39m=\u001b[39;49mmy_viewer)\n\u001b[0;32m      4\u001b[0m display(result)\n\u001b[0;32m      6\u001b[0m \u001b[39mif\u001b[39;00m my_viewer \u001b[39m!=\u001b[39m \u001b[39mNone\u001b[39;00m:\n",
            "File \u001b[1;32mc:\\Users\\progra.DESKTOP-GV4Q93K\\miniconda3\\lib\\site-packages\\simpleai\\search\\traditional.py:84\u001b[0m, in \u001b[0;36muniform_cost\u001b[1;34m(problem, graph_search, viewer)\u001b[0m\n\u001b[0;32m     76\u001b[0m \u001b[39mdef\u001b[39;00m \u001b[39muniform_cost\u001b[39m(problem, graph_search\u001b[39m=\u001b[39m\u001b[39mFalse\u001b[39;00m, viewer\u001b[39m=\u001b[39m\u001b[39mNone\u001b[39;00m):\n\u001b[0;32m     77\u001b[0m     \u001b[39m'''\u001b[39;00m\n\u001b[0;32m     78\u001b[0m \u001b[39m    Uniform cost search.\u001b[39;00m\n\u001b[0;32m     79\u001b[0m \n\u001b[1;32m   (...)\u001b[0m\n\u001b[0;32m     82\u001b[0m \u001b[39m    SearchProblem.is_goal, and SearchProblem.cost.\u001b[39;00m\n\u001b[0;32m     83\u001b[0m \u001b[39m    '''\u001b[39;00m\n\u001b[1;32m---> 84\u001b[0m     \u001b[39mreturn\u001b[39;00m _search(problem,\n\u001b[0;32m     85\u001b[0m                    BoundedPriorityQueue(),\n\u001b[0;32m     86\u001b[0m                    graph_search\u001b[39m=\u001b[39;49mgraph_search,\n\u001b[0;32m     87\u001b[0m                    node_factory\u001b[39m=\u001b[39;49mSearchNodeCostOrdered,\n\u001b[0;32m     88\u001b[0m                    graph_replace_when_better\u001b[39m=\u001b[39;49m\u001b[39mTrue\u001b[39;49;00m,\n\u001b[0;32m     89\u001b[0m                    viewer\u001b[39m=\u001b[39;49mviewer)\n",
            "File \u001b[1;32mc:\\Users\\progra.DESKTOP-GV4Q93K\\miniconda3\\lib\\site-packages\\simpleai\\search\\traditional.py:140\u001b[0m, in \u001b[0;36m_search\u001b[1;34m(problem, fringe, graph_search, depth_limit, node_factory, graph_replace_when_better, viewer)\u001b[0m\n\u001b[0;32m    138\u001b[0m \u001b[39mwhile\u001b[39;00m fringe:\n\u001b[0;32m    139\u001b[0m     \u001b[39mif\u001b[39;00m viewer:\n\u001b[1;32m--> 140\u001b[0m         viewer\u001b[39m.\u001b[39;49mevent(\u001b[39m'\u001b[39;49m\u001b[39mnew_iteration\u001b[39;49m\u001b[39m'\u001b[39;49m, fringe\u001b[39m.\u001b[39;49msorted())\n\u001b[0;32m    142\u001b[0m     node \u001b[39m=\u001b[39m fringe\u001b[39m.\u001b[39mpop()\n\u001b[0;32m    144\u001b[0m     \u001b[39mif\u001b[39;00m problem\u001b[39m.\u001b[39mis_goal(node\u001b[39m.\u001b[39mstate):\n",
            "File \u001b[1;32mc:\\Users\\progra.DESKTOP-GV4Q93K\\miniconda3\\lib\\site-packages\\simpleai\\search\\viewers.py:57\u001b[0m, in \u001b[0;36mBaseViewer.event\u001b[1;34m(self, name, *params)\u001b[0m\n\u001b[0;32m     56\u001b[0m \u001b[39mdef\u001b[39;00m \u001b[39mevent\u001b[39m(\u001b[39mself\u001b[39m, name, \u001b[39m*\u001b[39mparams):\n\u001b[1;32m---> 57\u001b[0m     \u001b[39mgetattr\u001b[39;49m(\u001b[39mself\u001b[39;49m, \u001b[39m'\u001b[39;49m\u001b[39mhandle_\u001b[39;49m\u001b[39m'\u001b[39;49m \u001b[39m+\u001b[39;49m name)(\u001b[39m*\u001b[39;49mparams)\n",
            "File \u001b[1;32mc:\\Users\\progra.DESKTOP-GV4Q93K\\miniconda3\\lib\\site-packages\\simpleai\\search\\viewers.py:74\u001b[0m, in \u001b[0;36mBaseViewer.handle_new_iteration\u001b[1;34m(self, fringe)\u001b[0m\n\u001b[0;32m     71\u001b[0m \u001b[39mself\u001b[39m\u001b[39m.\u001b[39mstats[\u001b[39m'\u001b[39m\u001b[39miterations\u001b[39m\u001b[39m'\u001b[39m] \u001b[39m+\u001b[39m\u001b[39m=\u001b[39m \u001b[39m1\u001b[39m\n\u001b[0;32m     73\u001b[0m description \u001b[39m=\u001b[39m \u001b[39m'\u001b[39m\u001b[39mNew iteration with \u001b[39m\u001b[39m%i\u001b[39;00m\u001b[39m elements in the fringe:\u001b[39m\u001b[39m\\n\u001b[39;00m\u001b[39m%s\u001b[39;00m\u001b[39m'\u001b[39m\n\u001b[1;32m---> 74\u001b[0m description \u001b[39m=\u001b[39m description \u001b[39m%\u001b[39m (\u001b[39mlen\u001b[39m(fringe), \u001b[39mstr\u001b[39;49m(fringe))\n\u001b[0;32m     75\u001b[0m \u001b[39mself\u001b[39m\u001b[39m.\u001b[39mlog_event(\u001b[39m'\u001b[39m\u001b[39mnew_iteration\u001b[39m\u001b[39m'\u001b[39m, description)\n",
            "\u001b[1;31mMemoryError\u001b[0m: "
          ]
        }
      ],
      "source": [
        "# Crea un PSA y lo resuelve con la búsqueda primero en anchura\n",
        "my_viewer = BaseViewer()\n",
        "result = uniform_cost(Mine(init3),graph_search=True, viewer=my_viewer)\n",
        "display(result)\n",
        "\n",
        "if my_viewer != None:\n",
        "    print('Stats:')\n",
        "    print(my_viewer.stats)\n",
        "\n",
        "print()\n",
        "print('>> Costo uniforme <<')\n",
        "display(result)"
      ]
    }
  ],
  "metadata": {
    "colab": {
      "provenance": []
    },
    "kernelspec": {
      "display_name": "base",
      "language": "python",
      "name": "python3"
    },
    "language_info": {
      "codemirror_mode": {
        "name": "ipython",
        "version": 3
      },
      "file_extension": ".py",
      "mimetype": "text/x-python",
      "name": "python",
      "nbconvert_exporter": "python",
      "pygments_lexer": "ipython3",
      "version": "3.10.9"
    },
    "orig_nbformat": 4
  },
  "nbformat": 4,
  "nbformat_minor": 0
}
