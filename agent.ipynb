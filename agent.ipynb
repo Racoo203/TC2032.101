{
  "cells": [
    {
      "cell_type": "code",
      "execution_count": 9,
      "metadata": {
        "id": "D6XzCRnPhqp-"
      },
      "outputs": [],
      "source": [
        "import numpy as np\n",
        "from simpleai.search import SearchProblem, depth_first, breadth_first, uniform_cost, greedy, astar\n",
        "from simpleai.search.viewers import BaseViewer, ConsoleViewer, WebViewer"
      ]
    },
    {
      "cell_type": "code",
      "execution_count": 10,
      "metadata": {
        "id": "9um_6pYLhqp_"
      },
      "outputs": [],
      "source": [
        "## Se crea el estado final e inicial del agente\n",
        "#finalstate = ((0,0,0,0),(0,0,0,0),(0,0,0,0),(0,0,0,0))\n",
        "#initialstate = ((0,0,0,0,0),(0,1,0,0,0),(1,0,1,0,0),(0,1,0,0,0),(0,1,0,0,0))\n"
      ]
    },
    {
      "cell_type": "code",
      "execution_count": 11,
      "metadata": {
        "id": "jMkCNzoshqp_"
      },
      "outputs": [],
      "source": [
        "## Se crea el estado final e inicial del agente\n",
        "init = ((0, 0, 0, False, False, False, False, 0, False, 0, False),\n",
        "        (0, 0, False, 0, False, False, False, False, 0, False, False),\n",
        "        (False, False, False, False, False, False, False, False, False, False, False),\n",
        "        (False, False, False, False, 1, False, False, False, False, False, False),\n",
        "        (False, False, False, 1, False, 1, False, False, False, False, False),\n",
        "        (False, False, False, False, 1, False, False, False, False, False, False),\n",
        "        (False, False, False, False, False, False, False, False, False, False, False),\n",
        "        (False, False, False, False, False, False, False, False, False, False, False),\n",
        "        (False, False, False, False, False, False, False, False, False, False, False),\n",
        "        (False, False, False, 0, False, False, False, False, False, False, False),\n",
        "        (False, False, 0, False, 0, False, False, False, False, False, False))\n",
        "\n",
        "goal = ((False, False, False, False, False, False, False, False, False, False, False),\n",
        "        (False, False, False, False, False, False, False, False, False, False, False),\n",
        "        (False, False, False, False, False, False, False, False, False, False, False),\n",
        "        (False, False, False, False, False, False, False, False, False, False, False),\n",
        "        (False, False, False, False, False, False, False, False, False, False, False),\n",
        "        (False, False, False, False, False, False, False, False, False, False, False),\n",
        "        (False, False, False, False, False, False, False, False, False, False, False),\n",
        "        (False, False, False, False, False, False, False, False, False, False, False),\n",
        "        (False, False, False, False, False, False, False, False, False, False, False),\n",
        "        (False, False, False, False, False, False, False, False, False, False, False))"
      ]
    },
    {
      "cell_type": "code",
      "execution_count": 12,
      "metadata": {
        "id": "SDeAlU2ZhqqA"
      },
      "outputs": [],
      "source": [
        "## En esta casilla será necesario agregar los obstáculos usando la función de not para las posiciones en el array\n"
      ]
    },
    {
      "cell_type": "code",
      "execution_count": 13,
      "metadata": {
        "id": "rILcHPqnhqqA"
      },
      "outputs": [],
      "source": [
        "#child_state = [list(row) for row in finalstate]\n",
        "#child_state"
      ]
    },
    {
      "cell_type": "code",
      "execution_count": 14,
      "metadata": {
        "id": "Vh-aZWp8hqqA"
      },
      "outputs": [],
      "source": [
        "## Reduce el número de acciones posibles descartando todas las que al dar clic aparecen 4 bolitas\n",
        "def adjacents(state, h,w):\n",
        "        try:\n",
        "            x = state[h][w+1]+ state[h][w-1]+state[h+1][w]+state[h-1][w]\n",
        "            return x\n",
        "        except:\n",
        "            try:\n",
        "                x = state[h][w+1]+state[h][w-1]+state[h+1][w]\n",
        "                return x\n",
        "            except:\n",
        "                try:\n",
        "                    x = state[h][w+1]+state[h][w-1]+state[h-1][w]\n",
        "                    return x\n",
        "                except:\n",
        "                    try:\n",
        "                        x = state[h][w+1]+state[h+1][w]+state[h-1][w]\n",
        "                        return x\n",
        "                    except:\n",
        "                        try:\n",
        "                            x = state[h][w-1]+state[h+1][w]+state[h-1][w]\n",
        "                            return x\n",
        "                        except:\n",
        "                            try:\n",
        "                                x = state[h][w+1]+state[h][w-1]\n",
        "                                return x\n",
        "                            except:\n",
        "                                try:\n",
        "                                    x = state[h][w+1]+state[h+1][w]\n",
        "                                    return x\n",
        "                                except:\n",
        "                                    try:\n",
        "                                        x = state[h][w+1]+state[h-1][w]\n",
        "                                        return x\n",
        "                                    except:\n",
        "                                        try:\n",
        "                                            x = state[h][w-1]+state[h+1][w]\n",
        "                                            return x\n",
        "                                        except:\n",
        "                                            try:\n",
        "                                                x = state[h][w-1]+state[h-1][w]\n",
        "                                                return x\n",
        "                                            except:\n",
        "                                                print(\"No sum\")\n",
        "\n",
        "## Dependiendo la acción que se realice, se invierte el estado de las casillas adyacentes, es una manera de poder poner los posibles estados\n",
        "def invert(state, h,w):\n",
        "        try:\n",
        "            state[h][w+1] = not state[h][w+1]\n",
        "            state[h][w-1] = not state[h][w-1]\n",
        "            state[h+1][w] = not state[h+1][w]\n",
        "            state[h-1][w] = not state[h-1][w]\n",
        "            return state\n",
        "        except:\n",
        "            try:\n",
        "                state[h][w+1] = not state[h][w+1]\n",
        "                state[h][w-1] = not state[h][w-1]\n",
        "                state[h+1][w] = not state[h+1][w]\n",
        "                return state\n",
        "            except:\n",
        "                try:\n",
        "                    state[h][w+1] = not state[h][w+1]\n",
        "                    state[h][w-1] = not state[h][w-1]\n",
        "                    state[h-1][w] = not state[h-1][w]\n",
        "                    return state\n",
        "                except:\n",
        "                    try:\n",
        "                        state[h][w+1] = not state[h][w+1]\n",
        "                        state[h+1][w] = not state[h+1][w]\n",
        "                        state[h-1][w] = not state[h-1][w]\n",
        "                        return state\n",
        "                    except:\n",
        "                        try:\n",
        "                            state[h][w-1] = not state[h][w-1]\n",
        "                            state[h+1][w] = not state[h+1][w]\n",
        "                            state[h-1][w] = not state[h-1][w]\n",
        "                            return state\n",
        "                        except:\n",
        "                            try:\n",
        "                                state[h][w+1] = not state[h][w+1]\n",
        "                                state[h][w-1] = not state[h][w-1]\n",
        "                                return state\n",
        "                            except:\n",
        "                                try:\n",
        "                                    state[h][w+1] = not state[h][w+1]\n",
        "                                    state[h+1][w] = not state[h+1][w]\n",
        "                                    return state\n",
        "                                except:\n",
        "                                    try:\n",
        "                                        state[h][w+1] = not state[h][w+1]\n",
        "                                        state[h-1][w] = not state[h-1][w]\n",
        "                                        return state\n",
        "                                    except:\n",
        "                                        try:\n",
        "                                            state[h][w-1] = not state[h][w-1]\n",
        "                                            state[h+1][w] = not state[h+1][w]\n",
        "                                            return state\n",
        "                                        except:\n",
        "                                            try:\n",
        "                                                state[h][w-1] = not state[h][w-1]\n",
        "                                                state[h-1][w] = not state[h-1][w]\n",
        "                                                return state\n",
        "                                            except:\n",
        "                                                print(\"No invert\")\n"
      ]
    },
    {
      "cell_type": "code",
      "execution_count": 15,
      "metadata": {
        "id": "sMZTnv0zhqqB"
      },
      "outputs": [],
      "source": [
        "\n",
        "class Mine(SearchProblem):\n",
        "\n",
        "    def init(self, initial):\n",
        "        self.initial = initial\n",
        "        SearchProblem.__init__(self,initial)\n",
        "        self.goal_state = 0\n",
        "\n",
        "    def actions(self,state):\n",
        "        actions = []\n",
        "        child_state = [list(row) for row in state]\n",
        "        for i in range(11):\n",
        "            for j in range(11):\n",
        "                if adjacents(child_state,i,j) == 4:\n",
        "                    actions.append((i,j))\n",
        "                elif adjacents(child_state,i,j) == 3:\n",
        "                    actions.append((i,j))\n",
        "                elif adjacents(child_state,i,j) == 2:\n",
        "                    actions.append((i,j))\n",
        "                elif adjacents(child_state,i,j) == 1:\n",
        "                    actions.append((i,j))\n",
        "        return actions\n",
        "\n",
        "\n",
        "    def result(self, state, action):\n",
        "        child_state = [list(row) for row in state]\n",
        "        child_state = invert(child_state,action[0],action[1])\n",
        "        return tuple([tuple(row) for row in child_state])\n",
        "\n",
        "    def is_goal(self,state):\n",
        "        found_goal = np.sum(state) == 0\n",
        "        return found_goal\n",
        "    def cost(self,state1,action,state2):\n",
        "        return 1\n",
        "\n",
        "    def heuristic(self,state):\n",
        "        A = np.sum(state)\n",
        "        return A\n",
        "\n",
        "    def display(result):\n",
        "        if result is not None:\n",
        "            for i, (action, state) in enumerate(result.path()):\n",
        "                if action == None:\n",
        "                    print('Configuración inicial')\n",
        "                elif i == len(result.path()) - 1:\n",
        "                    print(i,'- Después de moverse a', 'Ir a '+action)\n",
        "                    print('¡Meta lograda con costo = ', result.cost,'!')\n",
        "                else:\n",
        "                    print(i,'- Después de moverse a', 'Ir a '+action)\n",
        "                    print(' ', state)\n",
        "        else:\n",
        "                print('Mala configuración del problema')\n",
        "\n",
        "\n",
        "\n",
        "\n",
        "\n"
      ]
    },
    {
      "cell_type": "code",
      "execution_count": 16,
      "metadata": {},
      "outputs": [],
      "source": [
        "def display(result):\n",
        "    if result is not None:\n",
        "        for i, (action, state) in enumerate(result.path()):\n",
        "            if action == None:\n",
        "                print('Configuración inicial')\n",
        "            elif i == len(result.path()) - 1:\n",
        "                print(i, action)\n",
        "                print('¡Meta lograda con costo = ', result.cost,'!')\n",
        "            else:\n",
        "                print(i, action)\n",
        "\n",
        "            print('  ', state)\n",
        "    else:\n",
        "        print('Mala configuración del problema')"
      ]
    },
    {
      "cell_type": "code",
      "execution_count": 17,
      "metadata": {
        "colab": {
          "base_uri": "https://localhost:8080/"
        },
        "id": "ghBc_o04hqqB",
        "outputId": "1497850f-ac98-44b8-b364-25dd9d42d744"
      },
      "outputs": [
        {
          "name": "stdout",
          "output_type": "stream",
          "text": [
            "Configuración inicial\n",
            "   ((0, 0, 0, False, False, False, False, 0, False, 0, False), (0, 0, False, 0, False, False, False, False, 0, False, False), (False, False, False, False, False, False, False, False, False, False, False), (False, False, False, False, 1, False, False, False, False, False, False), (False, False, False, 1, False, 1, False, False, False, False, False), (False, False, False, False, 1, False, False, False, False, False, False), (False, False, False, False, False, False, False, False, False, False, False), (False, False, False, False, False, False, False, False, False, False, False), (False, False, False, False, False, False, False, False, False, False, False), (False, False, False, 0, False, False, False, False, False, False, False), (False, False, 0, False, 0, False, False, False, False, False, False))\n",
            "1 (4, 4)\n",
            "¡Meta lograda con costo =  1 !\n",
            "   ((0, 0, 0, False, False, False, False, 0, False, 0, False), (0, 0, False, 0, False, False, False, False, 0, False, False), (False, False, False, False, False, False, False, False, False, False, False), (False, False, False, False, False, False, False, False, False, False, False), (False, False, False, False, False, False, False, False, False, False, False), (False, False, False, False, False, False, False, False, False, False, False), (False, False, False, False, False, False, False, False, False, False, False), (False, False, False, False, False, False, False, False, False, False, False), (False, False, False, False, False, False, False, False, False, False, False), (False, False, False, 0, False, False, False, False, False, False, False), (False, False, 0, False, 0, False, False, False, False, False, False))\n"
          ]
        }
      ],
      "source": [
        "# Crea un PSA y lo resuelve con la búsqueda primero en anchura\n",
        "my_viewer = BaseViewer()\n",
        "result = breadth_first(Mine(init),graph_search=True, viewer=my_viewer)\n",
        "display(result)\n"
      ]
    }
  ],
  "metadata": {
    "colab": {
      "provenance": []
    },
    "kernelspec": {
      "display_name": "base",
      "language": "python",
      "name": "python3"
    },
    "language_info": {
      "codemirror_mode": {
        "name": "ipython",
        "version": 3
      },
      "file_extension": ".py",
      "mimetype": "text/x-python",
      "name": "python",
      "nbconvert_exporter": "python",
      "pygments_lexer": "ipython3",
      "version": "3.11.3"
    },
    "orig_nbformat": 4
  },
  "nbformat": 4,
  "nbformat_minor": 0
}
